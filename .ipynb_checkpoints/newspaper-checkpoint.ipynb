{
 "metadata": {
  "name": "",
  "signature": "sha256:1c0031e7975806822dad1d527b097c70cdc6c63047648904645e0af3f9285e81"
 },
 "nbformat": 3,
 "nbformat_minor": 0,
 "worksheets": [
  {
   "cells": [
    {
     "cell_type": "code",
     "collapsed": false,
     "input": [
      "import newspaper"
     ],
     "language": "python",
     "metadata": {},
     "outputs": [],
     "prompt_number": 1
    },
    {
     "cell_type": "code",
     "collapsed": false,
     "input": [
      "nyt = newspaper.build(\"http://www.nytimes.com/\")"
     ],
     "language": "python",
     "metadata": {},
     "outputs": [],
     "prompt_number": 58
    },
    {
     "cell_type": "code",
     "collapsed": false,
     "input": [
      "nyt.articles"
     ],
     "language": "python",
     "metadata": {},
     "outputs": [
      {
       "metadata": {},
       "output_type": "pyout",
       "prompt_number": 59,
       "text": [
        "[<newspaper.article.Article at 0x12f8fcad0>,\n",
        " <newspaper.article.Article at 0x12f8ff110>,\n",
        " <newspaper.article.Article at 0x12f902510>,\n",
        " <newspaper.article.Article at 0x12f91ded0>,\n",
        " <newspaper.article.Article at 0x12f92cb10>,\n",
        " <newspaper.article.Article at 0x12f91dbd0>,\n",
        " <newspaper.article.Article at 0x12f92c4d0>,\n",
        " <newspaper.article.Article at 0x12f8fc210>,\n",
        " <newspaper.article.Article at 0x12f91d510>,\n",
        " <newspaper.article.Article at 0x12f8ffe50>,\n",
        " <newspaper.article.Article at 0x12f92c350>,\n",
        " <newspaper.article.Article at 0x12f91d790>,\n",
        " <newspaper.article.Article at 0x12f924ad0>,\n",
        " <newspaper.article.Article at 0x12f8f6550>,\n",
        " <newspaper.article.Article at 0x12f91de50>,\n",
        " <newspaper.article.Article at 0x12f92cd90>,\n",
        " <newspaper.article.Article at 0x12f924850>,\n",
        " <newspaper.article.Article at 0x12f9322d0>,\n",
        " <newspaper.article.Article at 0x12f915910>,\n",
        " <newspaper.article.Article at 0x12f932b10>,\n",
        " <newspaper.article.Article at 0x12f915f90>,\n",
        " <newspaper.article.Article at 0x12f8fcd50>,\n",
        " <newspaper.article.Article at 0x12f932050>,\n",
        " <newspaper.article.Article at 0x12f902810>,\n",
        " <newspaper.article.Article at 0x12f932250>,\n",
        " <newspaper.article.Article at 0x12f915d90>,\n",
        " <newspaper.article.Article at 0x12f902650>,\n",
        " <newspaper.article.Article at 0x12f8fff50>,\n",
        " <newspaper.article.Article at 0x12f915d50>,\n",
        " <newspaper.article.Article at 0x12f8ff450>,\n",
        " <newspaper.article.Article at 0x12f9246d0>,\n",
        " <newspaper.article.Article at 0x12f8fc090>,\n",
        " <newspaper.article.Article at 0x12f8fcbd0>,\n",
        " <newspaper.article.Article at 0x12f8fc6d0>,\n",
        " <newspaper.article.Article at 0x12f932890>,\n",
        " <newspaper.article.Article at 0x12f91d950>,\n",
        " <newspaper.article.Article at 0x12f902d10>,\n",
        " <newspaper.article.Article at 0x12f92c610>,\n",
        " <newspaper.article.Article at 0x12f902e10>,\n",
        " <newspaper.article.Article at 0x12f92ca90>,\n",
        " <newspaper.article.Article at 0x12f915f10>,\n",
        " <newspaper.article.Article at 0x12f915110>,\n",
        " <newspaper.article.Article at 0x12f91d450>,\n",
        " <newspaper.article.Article at 0x12f919a90>,\n",
        " <newspaper.article.Article at 0x12f915690>,\n",
        " <newspaper.article.Article at 0x12f8f6350>,\n",
        " <newspaper.article.Article at 0x12f8fcfd0>,\n",
        " <newspaper.article.Article at 0x12f91d850>,\n",
        " <newspaper.article.Article at 0x12f8f6fd0>,\n",
        " <newspaper.article.Article at 0x12f8f6f90>,\n",
        " <newspaper.article.Article at 0x12f924150>,\n",
        " <newspaper.article.Article at 0x12f9245d0>,\n",
        " <newspaper.article.Article at 0x12f932150>,\n",
        " <newspaper.article.Article at 0x12f8f66d0>,\n",
        " <newspaper.article.Article at 0x12f8fc510>,\n",
        " <newspaper.article.Article at 0x12f92c790>,\n",
        " <newspaper.article.Article at 0x12f91d5d0>,\n",
        " <newspaper.article.Article at 0x12f9191d0>,\n",
        " <newspaper.article.Article at 0x12f8fc3d0>,\n",
        " <newspaper.article.Article at 0x12f8f65d0>,\n",
        " <newspaper.article.Article at 0x12f92c890>,\n",
        " <newspaper.article.Article at 0x12f8fc490>,\n",
        " <newspaper.article.Article at 0x12f91ddd0>,\n",
        " <newspaper.article.Article at 0x12f92c250>,\n",
        " <newspaper.article.Article at 0x12f915a10>,\n",
        " <newspaper.article.Article at 0x12f8f6750>,\n",
        " <newspaper.article.Article at 0x12f91d650>,\n",
        " <newspaper.article.Article at 0x12f902590>,\n",
        " <newspaper.article.Article at 0x12f932790>,\n",
        " <newspaper.article.Article at 0x12f91da90>,\n",
        " <newspaper.article.Article at 0x12f8f67d0>,\n",
        " <newspaper.article.Article at 0x1357da290>,\n",
        " <newspaper.article.Article at 0x12f8fced0>,\n",
        " <newspaper.article.Article at 0x12f924fd0>,\n",
        " <newspaper.article.Article at 0x12f7dc6d0>,\n",
        " <newspaper.article.Article at 0x12f915410>,\n",
        " <newspaper.article.Article at 0x12f92cd10>,\n",
        " <newspaper.article.Article at 0x12f919090>,\n",
        " <newspaper.article.Article at 0x12f924f50>,\n",
        " <newspaper.article.Article at 0x12f902fd0>,\n",
        " <newspaper.article.Article at 0x12f902710>,\n",
        " <newspaper.article.Article at 0x12f7dc450>,\n",
        " <newspaper.article.Article at 0x12f924d50>,\n",
        " <newspaper.article.Article at 0x12f9029d0>,\n",
        " <newspaper.article.Article at 0x12f902b50>,\n",
        " <newspaper.article.Article at 0x12f919f10>,\n",
        " <newspaper.article.Article at 0x12f8f6250>,\n",
        " <newspaper.article.Article at 0x12f9028d0>,\n",
        " <newspaper.article.Article at 0x12f91dfd0>,\n",
        " <newspaper.article.Article at 0x12f91da10>,\n",
        " <newspaper.article.Article at 0x12f924310>,\n",
        " <newspaper.article.Article at 0x12f924b50>,\n",
        " <newspaper.article.Article at 0x12f92ce10>,\n",
        " <newspaper.article.Article at 0x12f8fcb50>,\n",
        " <newspaper.article.Article at 0x12f924dd0>,\n",
        " <newspaper.article.Article at 0x12f915790>,\n",
        " <newspaper.article.Article at 0x12f9248d0>,\n",
        " <newspaper.article.Article at 0x12f92c2d0>,\n",
        " <newspaper.article.Article at 0x12f902390>,\n",
        " <newspaper.article.Article at 0x12f92c550>,\n",
        " <newspaper.article.Article at 0x12f91dc90>,\n",
        " <newspaper.article.Article at 0x12f9324d0>,\n",
        " <newspaper.article.Article at 0x12f91d390>,\n",
        " <newspaper.article.Article at 0x12f919fd0>,\n",
        " <newspaper.article.Article at 0x12f8ff210>,\n",
        " <newspaper.article.Article at 0x1357eddd0>,\n",
        " <newspaper.article.Article at 0x12f8fcdd0>,\n",
        " <newspaper.article.Article at 0x12f924650>,\n",
        " <newspaper.article.Article at 0x1357dac90>,\n",
        " <newspaper.article.Article at 0x12f8f6ad0>,\n",
        " <newspaper.article.Article at 0x12f8ffc90>,\n",
        " <newspaper.article.Article at 0x12f91d3d0>,\n",
        " <newspaper.article.Article at 0x12f932a10>,\n",
        " <newspaper.article.Article at 0x12f92c690>,\n",
        " <newspaper.article.Article at 0x12f92c810>,\n",
        " <newspaper.article.Article at 0x12f932550>,\n",
        " <newspaper.article.Article at 0x12f932690>,\n",
        " <newspaper.article.Article at 0x12f8f69d0>,\n",
        " <newspaper.article.Article at 0x12f92cf10>,\n",
        " <newspaper.article.Article at 0x12f8ffd90>,\n",
        " <newspaper.article.Article at 0x12f924090>,\n",
        " <newspaper.article.Article at 0x12f915290>,\n",
        " <newspaper.article.Article at 0x1357dad10>,\n",
        " <newspaper.article.Article at 0x12f9247d0>,\n",
        " <newspaper.article.Article at 0x12f915490>,\n",
        " <newspaper.article.Article at 0x12f91d6d0>,\n",
        " <newspaper.article.Article at 0x12f8f6790>,\n",
        " <newspaper.article.Article at 0x12f919b90>,\n",
        " <newspaper.article.Article at 0x12f924bd0>,\n",
        " <newspaper.article.Article at 0x12f8f6850>,\n",
        " <newspaper.article.Article at 0x12f915510>,\n",
        " <newspaper.article.Article at 0x12f92cb90>,\n",
        " <newspaper.article.Article at 0x12f8ffe10>,\n",
        " <newspaper.article.Article at 0x12f932dd0>,\n",
        " <newspaper.article.Article at 0x12f8fce50>,\n",
        " <newspaper.article.Article at 0x12f932450>,\n",
        " <newspaper.article.Article at 0x12f902310>,\n",
        " <newspaper.article.Article at 0x12f919250>,\n",
        " <newspaper.article.Article at 0x12f8ff410>,\n",
        " <newspaper.article.Article at 0x12f932810>,\n",
        " <newspaper.article.Article at 0x12f92c090>,\n",
        " <newspaper.article.Article at 0x12f932f50>,\n",
        " <newspaper.article.Article at 0x12f9321d0>,\n",
        " <newspaper.article.Article at 0x12f91db10>,\n",
        " <newspaper.article.Article at 0x12f91db50>,\n",
        " <newspaper.article.Article at 0x12f9190d0>,\n",
        " <newspaper.article.Article at 0x12f924410>,\n",
        " <newspaper.article.Article at 0x12f919990>,\n",
        " <newspaper.article.Article at 0x12f924a50>,\n",
        " <newspaper.article.Article at 0x12f92c990>,\n",
        " <newspaper.article.Article at 0x12f915990>,\n",
        " <newspaper.article.Article at 0x12f915e90>,\n",
        " <newspaper.article.Article at 0x1357da990>,\n",
        " <newspaper.article.Article at 0x12f902690>,\n",
        " <newspaper.article.Article at 0x12f924cd0>,\n",
        " <newspaper.article.Article at 0x12f924290>,\n",
        " <newspaper.article.Article at 0x12f92cf90>,\n",
        " <newspaper.article.Article at 0x12f8f63d0>,\n",
        " <newspaper.article.Article at 0x12f919c90>,\n",
        " <newspaper.article.Article at 0x12f902e50>,\n",
        " <newspaper.article.Article at 0x12f8f68d0>,\n",
        " <newspaper.article.Article at 0x12f8f64d0>,\n",
        " <newspaper.article.Article at 0x12f8fcf50>,\n",
        " <newspaper.article.Article at 0x12f919c10>,\n",
        " <newspaper.article.Article at 0x12f8f6d10>,\n",
        " <newspaper.article.Article at 0x12f902790>,\n",
        " <newspaper.article.Article at 0x12f91d8d0>,\n",
        " <newspaper.article.Article at 0x12f919b10>,\n",
        " <newspaper.article.Article at 0x12f8ffa90>,\n",
        " <newspaper.article.Article at 0x12f8fccd0>]"
       ]
      }
     ],
     "prompt_number": 59
    },
    {
     "cell_type": "code",
     "collapsed": false,
     "input": [
      "for article in nyt.articles:\n",
      "    print article.url"
     ],
     "language": "python",
     "metadata": {},
     "outputs": [
      {
       "output_type": "stream",
       "stream": "stdout",
       "text": [
        "http://www.nytimes.com/1997/11/14/movies/theater-review-cub-comes-of-age-a-twice-told-cosmic-tale.html\n",
        "http://www.nytimes.com/2014/05/03/theater/the-box-at-irondale-center-depicts-prison-life.html\n",
        "http://www.nytimes.com/2014/05/09/world/middleeast/egypts-tourism-industry-grows-desperate-amid-sustained-turmoil.html\n",
        "http://www.nytimes.com/2014/05/09/world/europe/william-ash-an-escape-artist-who-fled-toward-danger-dies-at-96.html\n",
        "http://www.nytimes.com/2014/05/11/realestate/where-paper-real-estate-records-still-rule.html\n",
        "http://www.nytimes.com/2014/05/09/nyregion/de-blasio-new-york-budget.html\n",
        "http://www.nytimes.com/2014/05/08/garden/your-hand-in-marriage.html\n",
        "http://www.nytimes.com/video/arts/100000002870215/this-weekend-million-dollar-art-on-sale.html\n",
        "http://www.nytimes.com/2014/05/11/theater/theaterspecial/gentlemans-guide-to-love-murder-leads-season-surprises.html\n",
        "http://www.nytimes.com/2014/05/07/theater/forbidden-broadway-comes-out-swinging-a-satiric-revue.html\n",
        "http://www.nytimes.com/2014/05/10/your-money/four-stand-out-college-essays-about-money.html\n",
        "http://www.nytimes.com/2014/05/09/theater/lovebirds-twits-and-blowhards-in-the-rivals.html\n",
        "http://www.nytimes.com/2014/05/09/health/doctors-use-patients-immune-cells-to-shrink-cancer-tumors.html\n",
        "http://www.nytimes.com/reuters/2014/05/09/business/09reuters-usa-tax-avoidance.html\n",
        "http://www.nytimes.com/2014/05/09/us/billy-frank-jr-fighter-for-native-fishing-rights-dies-at-83.html\n",
        "http://www.nytimes.com/2014/05/11/fashion/unveiling-diors-cruise-collection.html\n",
        "http://www.nytimes.com/2014/05/09/arts/television/rosemarys-baby-is-remade-into-a-mini-series.html\n",
        "http://www.nytimes.com/2014/05/04/automobiles/autoreviews/if-your-bucket-list-includes-a-taco-truck.html\n",
        "http://www.nytimes.com/2014/05/10/opinion/indias-price-of-victory.html\n",
        "http://dealbook.nytimes.com/2014/05/08/ad-agency-giants-said-to-call-off-35-billion-merger/\n",
        "http://dealbook.nytimes.com/2014/05/09/for-apple-a-beats-deal-would-top-the-charts/\n",
        "http://www.nytimes.com/slideshow/2014/05/04/automobiles/collectibles/04ego-slides.html\n",
        "http://www.nytimes.com/2014/05/11/magazine/masala-dosa-to-die-for.html\n",
        "http://www.nytimes.com/2014/05/09/opinion/what-housing-recovery.html\n",
        "http://www.nytimes.com/2014/05/04/automobiles/small-and-city-smart-microvans-proliferate.html\n",
        "http://www.nytimes.com/2014/05/10/us/obama-urges-increased-energy-efficiency.html\n",
        "http://www.nytimes.com/2014/05/06/theater/cherry-smoke-by-james-mcmanus-at-urban-stages.html\n",
        "http://cityroom.blogs.nytimes.com/2014/05/09/new-york-today-mothers-day-delays/\n",
        "http://www.nytimes.com/2014/05/06/theater/city-of-conversation-charts-a-sea-change-in-washington.html\n",
        "http://www.nytimes.com/2014/05/09/business/wayne-jackson-chief-of-sonatype-on-taking-risks.html\n",
        "http://www.nytimes.com/2014/05/11/travel/us-trips-to-russia-fall-amid-conflict.html\n",
        "http://www.nytimes.com/2014/05/02/theater/a-new-run-for-here-lies-love-at-the-public.html\n",
        "http://www.nytimes.com/2013/04/05/theater/reviews/kinky-boots-the-harvey-fierstein-cyndi-lauper-musical.html\n",
        "http://www.nytimes.com/2014/05/08/greathomesanddestinations/what-you-get-for-3500000.html\n",
        "http://www.nytimes.com/2014/05/10/upshot/a-drink-as-complicated-as-motherhood.html\n",
        "http://www.nytimes.com/2014/05/09/movies/chef-a-culinary-comedy-by-jon-favreau.html\n",
        "http://www.nytimes.com/2014/05/05/theater/in-family-play-1979-to-present-intimate-moments-unfold.html\n",
        "http://www.nytimes.com/2014/05/08/greathomesanddestinations/redefining-a-beach-share.html\n",
        "http://theater.nytimes.com/show/195436/Cinderella-A-Fairy-God-Mother-s-Tale/overview\n",
        "http://www.nytimes.com/2014/05/11/realestate/hamptons-real-estate-west-of-the-shinnecock-canal.html\n",
        "http://www.nytimes.com/2014/05/10/business/morgan-stanley-is-still-silicon-valleys-bank-of-choice.html\n",
        "http://www.nytimes.com/roomfordebate/2014/05/08/climate-debate-isnt-so-heated-in-the-us/\n",
        "http://www.nytimes.com/2014/05/10/us/politics/postal-service-reports-loss-of-1-9-billion-in-2nd-quarter.html\n",
        "http://www.nytimes.com/2014/05/10/world/africa/south-africa-vote.html\n",
        "http://www.nytimes.com/2014/05/09/business/recalled-used-cars-roam-the-roads-as-federal-legislation-stalls.html\n",
        "http://tmagazine.blogs.nytimes.com/2014/05/09/the-art-of-eating-cai-guo-qiang-marianne-vitale-urs-fischer/\n",
        "http://www.nytimes.com/2014/01/13/theater/beautiful-the-carole-king-musical-at-sondheim-theater.html\n",
        "http://www.nytimes.com/2014/05/11/movies/james-gray-and-joaquin-phoenix-reunite-in-the-immigrant.html\n",
        "http://www.nytimes.com/2014/05/10/your-money/a-multimillion-dollar-battle-could-complicate-getting-what-youre-owed.html\n",
        "http://www.nytimes.com/2014/05/09/arts/design/charles-james-beyond-fashion-a-retrospective-at-the-met.html\n",
        "http://www.nytimes.com/2014/05/11/theater/theaterspecial/and-the-nominees-should-be-isherwood.html\n",
        "http://www.nytimes.com/2014/05/11/travel/a-working-vacation-on-an-umbrian-farm.html\n",
        "http://dealbook.nytimes.com/2014/05/09/weekend-reading-5-questions-for-alibabas-i-p-o/\n",
        "http://www.nytimes.com/2014/05/10/opinion/the-travails-of-thailand.html\n",
        "http://www.nytimes.com/2005/07/15/theater/reviews/15zino.html\n",
        "http://www.nytimes.com/2014/05/11/opinion/sunday/professors-are-prejudiced-too.html\n",
        "http://www.nytimes.com/2014/05/10/sports/soccer/as-luis-suarez-cleans-up-his-image-liverpool-sees-the-results.html\n",
        "http://www.nytimes.com/2014/05/11/theater/theaterspecial/nick-cordero-strives-for-tough-in-bullets-over-broadway.html\n",
        "http://www.nytimes.com/2014/05/09/theater/samantha-spade-ace-detective-tale-of-a-teenage-sleuth.html\n",
        "http://www.nytimes.com/reuters/2014/05/09/world/europe/09reuters-eu-election-debate.html\n",
        "http://www.nytimes.com/2014/04/20/opinion/sunday/this-time-get-global-trade-right.html\n",
        "http://www.nytimes.com/2014/05/08/theater/playing-with-grown-ups-by-hannah-patterson-at-59e59.html\n",
        "http://www.nytimes.com/2014/05/09/arts/design/maria-lassnig-painter-of-self-from-the-inside-out-dies-at-94.html\n",
        "http://www.nytimes.com/2014/05/10/us/at-evangelical-christian-colleges-leadership-is-often-the-family-business.html\n",
        "http://www.nytimes.com/2014/05/09/opinion/brooks-the-real-africa.html\n",
        "http://www.nytimes.com/news/minute/2014/05/09/times-minute-costa-concordias-end/\n",
        "http://www.nytimes.com/2014/05/09/sports/football/personalizing-jerseys-of-top-nfl-picks-is-a-race-against-the-clock.html\n",
        "http://artsbeat.blogs.nytimes.com/2014/05/06/in-performance-vanessa-williams-of-after-midnight/\n",
        "http://www.nytimes.com/2014/05/10/upshot/fedexs-price-rise-is-a-blessing-in-disguise-for-amazon.html\n",
        "http://www.nytimes.com/2014/05/11/theater/theaterspecial/hearing-from-the-women-who-made-the-years-musicals-sing.html\n",
        "http://www.nytimes.com/2014/05/09/opinion/krugman-now-thats-rich.html\n",
        "http://da.feedsportal.com/r/195505720594/u/0/f/640350/c/34625/s/3a3743cc/sc/1/rc/1/rc.htm\n",
        "http://www.nytimes.com/2013/04/15/theater/reviews/motown-the-musical-berry-gordys-story.html\n",
        "http://www.nytimes.com/2014/05/11/books/review/capital-by-rana-dasgupta.html\n",
        "http://www.nytimes.com/2014/05/04/nyregion/a-review-of-the-house-that-will-not-stand-in-new-haven.html\n",
        "http://www.nytimes.com/2014/05/10/world/europe/russia-celebrates-victory-day.html\n",
        "http://www.nytimes.com/2014/05/08/fashion/garance-dore-the-style-blogger-snatches-the-spotlight.html\n",
        "http://www.nytimes.com/2014/05/03/theater/peddling-in-brits-off-broadway-plumbs-a-youths-soul.html\n",
        "http://www.nytimes.com/2014/05/11/books/review/midnights-descendants-by-john-keay.html\n",
        "http://www.nytimes.com/2014/05/09/arts/design/frieze-restages-ruppersbergs-als-grand-hotel.html\n",
        "http://artsbeat.blogs.nytimes.com/2014/05/05/critics-circle-names-fun-home-best-musical/\n",
        "http://www.nytimes.com/2014/05/09/us/compromise-on-gays-pleases-no-one-scouts-are-learning.html\n",
        "http://www.nytimes.com/2014/05/10/nyregion/at-the-end-of-the-line-a-final-toast-to-the-bar-car.html\n",
        "http://www.nytimes.com/2014/05/09/theater/irma-la-douce-back-on-the-streets.html\n",
        "http://www.nytimes.com/2014/05/08/opinion/love-and-stuff.html\n",
        "http://www.nytimes.com/2014/05/09/movies/in-stage-fright-a-killer-at-theater-camp.html\n",
        "http://www.nytimes.com/slideshow/2014/04/29/theater/theaterspecial/20140429-tony-nominations.html\n",
        "http://www.nytimes.com/2014/05/09/nyregion/newark-mayoral-race-seen-as-referendum-on-booker.html\n",
        "http://www.nytimes.com/2014/05/11/theater/theaterspecial/moving-your-show-to-broadway-not-so-fast.html\n",
        "http://www.nytimes.com/2014/05/08/theater/the-racially-charged-dutchman-at-national-black-theater.html\n",
        "http://www.nytimes.com/2014/05/09/science/a-synthetic-biology-conference-lures-an-intriguing-audience.html\n",
        "http://well.blogs.nytimes.com/2014/05/08/living-with-cancer-careless-care/\n",
        "http://dealbook.nytimes.com/2014/05/08/pfizer-plan-to-go-to-london-spurs-other-companies-to-consider-moving-abroad/\n",
        "http://www.nytimes.com/2011/03/25/theater/reviews/the-book-of-mormon-at-eugene-oneill-theater-review.html\n",
        "http://www.nytimes.com/2014/05/14/dining/putting-a-face-on-pinot-blanc.html\n",
        "http://www.nytimes.com/interactive/2014/05/09/business/student-essays-your-money.html\n",
        "http://www.nytimes.com/2014/05/11/arts/television/the-11th-most-fascinating-person-ever.html\n",
        "http://www.nytimes.com/2014/05/10/your-money/an-update-on-the-4-students-whose-college-essays-were-featured.html\n",
        "http://www.nytimes.com/2014/05/09/opinion/druckerman-the-russians-love-their-children-too.html\n",
        "http://www.nytimes.com/2014/05/08/garden/grandma-never-had-it-so-good.html\n",
        "http://www.nytimes.com/2013/11/18/theater/reviews/a-gentlemans-guide-to-love-and-murder-on-broadway.html\n",
        "http://tmagazine.blogs.nytimes.com/2014/05/09/amanda-sharp-frieze-new-york-pussy-riot-cecilia-alemani-gladstone-marian-goodman-gagosian-ruscha/\n",
        "http://www.nytimes.com/2014/05/05/theater/an-octoroon-a-slave-era-tale-at-soho-rep.html\n",
        "http://www.nytimes.com/aponline/2014/05/09/us/ap-us-baby-names-list.html\n",
        "http://www.nytimes.com/2014/05/09/greathomesanddestinations/developer-celebrates-london-project-with-a-play.html\n",
        "http://sports.blogs.nytimes.com/2014/05/08/highlights-and-analysis-of-the-2014-n-f-l-draft-round-1/\n",
        "http://www.nytimes.com/2014/04/04/theater/raisin-in-the-sun-brings-denzel-washington-back-to-broadway.html\n",
        "http://www.nytimes.com/2014/05/11/travel/echoes-of-history-at-a-tuscan-estate.html\n",
        "http://da.feedsportal.com/r/195505720594/u/0/f/640350/c/34625/s/3a3743cc/sc/1/rc/3/rc.htm\n",
        "http://www.nytimes.com/2014/05/09/upshot/vaccine-opponents-can-be-immune-to-education.html\n",
        "http://www.nytimes.com/2014/05/08/theater/fabulous-miss-marie-drinks-and-dances-at-castillo-theater.html\n",
        "http://www.nytimes.com/2014/05/10/us/politics/boehner-appoints-7-republicans-to-benghazi-panel.html\n",
        "http://takingnote.blogs.nytimes.com/2014/05/09/when-jet-mattered/\n",
        "http://www.nytimes.com/2014/05/09/sports/football/2014-nfl-draft-results-day-one.html\n",
        "http://www.nytimes.com/2014/04/27/sunday-review/a-birdbath-size-hole-and-the-future-of-golf.html\n",
        "http://tmagazine.blogs.nytimes.com/2014/05/09/flashback-memories-of-the-paradise-garage-larry-levan-street-party/\n",
        "http://www.nytimes.com/2014/05/11/nyregion/theyre-stompin-on-avenue-b.html\n",
        "http://www.nytimes.com/2014/05/11/sunday-review/in-rwanda-finding-echoes-of-germany.html\n",
        "http://www.nytimes.com/2014/05/11/magazine/addict-informant-mother.html\n",
        "http://www.nytimes.com/2014/05/06/theater/the-spring-fling-first-love-at-the-access-theater.html\n",
        "http://www.nytimes.com/2014/05/11/theater/theaterspecial/and-the-nominees-should-be.html\n",
        "http://www.nytimes.com/2014/05/09/books/the-noble-hustle-by-colson-whitehead.html\n",
        "http://da.feedsportal.com/r/195505720594/u/0/f/640350/c/34625/s/3a3743cc/sc/1/a2.htm\n",
        "http://www.nytimes.com/2014/05/10/arts/television/eurovision-splashes-into-2014-finals-to-rapt-audiences.html\n",
        "http://www.nytimes.com/2014/05/10/world/europe/ukraine-forces-destroy-police-building-in-restive-east.html\n",
        "http://www.nytimes.com/2014/05/10/sports/basketball/nets-need-more-than-good-game-plan-to-beat-the-heat.html\n",
        "http://artsbeat.blogs.nytimes.com/2014/05/08/hal-brooks-will-oversee-pearl-theater-company/\n",
        "http://www.nytimes.com/2014/05/10/world/asia/south-koreas-leader-and-media-face-scrutiny-over-ferry-disaster.html\n",
        "http://www.nytimes.com/2014/05/09/sports/basketball/coming-off-rout-nets-adjust-but-are-left-adrift.html\n",
        "http://www.nytimes.com/2014/05/09/opinion/egan-can-the-kochs-hold-back-history.html\n",
        "http://www.nytimes.com/2014/05/09/world/europe/ukraine.html\n",
        "http://www.nytimes.com/2014/05/11/realestate/upper-west-side-brownstone-with-modern-twists.html\n",
        "http://www.nytimes.com/2014/05/08/theater/17-orchard-point-a-tale-of-a-strained-family.html\n",
        "http://dealbook.nytimes.com/2014/05/08/apple-said-to-be-in-talks-to-buy-beats-for-3-2-billion/\n",
        "http://www.nytimes.com/2014/03/21/theater/aladdin-tweaks-the-disney-formula-with-breezy-insouciance.html\n",
        "http://tmagazine.blogs.nytimes.com/2014/05/09/legs-frieze-new-york-guillaume-leblon-adam-mcewen-nicolai-wallner/\n",
        "http://www.nytimes.com/2014/05/06/theater/swing-beowulf-at-the-irish-arts-center.html\n",
        "http://artsbeat.blogs.nytimes.com/2014/05/08/the-river-with-hugh-jackman-is-set-for-october-opening-on-broadway/\n",
        "http://www.nytimes.com/2014/03/07/theater/bryan-cranston-as-president-johnson-in-all-the-way.html\n",
        "http://www.nytimes.com/2014/05/09/upshot/why-you-should-pay-frontiers-carry-on-bag-fee-with-a-smile.html\n",
        "http://www.nytimes.com/2014/05/11/books/review/gandhi-before-india-by-ramachandra-guha.html\n",
        "http://www.nytimes.com/2014/05/09/world/africa/schoolgirl-abductions-put-scrutiny-on-us-terrorism-strategy.html\n",
        "http://www.nytimes.com/2014/05/10/business/bmw-to-expand-us-plant-in-push-for-lighter-and-more-fuel-efficient-cars.html\n",
        "http://www.nytimes.com/2014/05/11/theater/theaterspecial/surprising-visits-from-washington-and-radcliffe.html\n",
        "http://www.nytimes.com/2014/05/09/nyregion/medicaid-shift-fuels-rush-for-profitable-clients.html\n",
        "http://www.nytimes.com/2014/05/11/theater/theaterspecial/tony-shalhoub-juggles-characters-in-act-one.html\n",
        "http://www.nytimes.com/2014/05/09/us/politics/obama-to-give-push-on-climate.html\n",
        "http://www.nytimes.com/2014/05/10/automobiles/ford-recalls-1-4-million-crossovers-gm-recalls-9000-sedans.html\n",
        "http://www.nytimes.com/2014/05/09/world/americas/deadly-illness-in-nicaragua-baffles-experts.html\n",
        "http://www.nytimes.com/2014/05/08/fashion/Wanelo-Social-Media-Shopping-Site-Deena-Varshavskaya-ecommerce.html\n",
        "http://www.nytimes.com/2014/05/09/opinion/center-ring-at-the-republican-circus.html\n",
        "http://www.nytimes.com/2014/05/09/technology/hachette-says-amazon-is-delaying-delivery-of-some-books.html\n",
        "http://da.feedsportal.com/r/195505720594/u/0/f/640350/c/34625/s/3a3743cc/sc/1/rc/2/rc.htm\n",
        "http://www.nytimes.com/2014/05/11/travel/36-hours-in-ho-chi-minh-city-vietnam.html\n",
        "http://www.nytimes.com/2014/05/14/dining/green-garlic-stirs-a-pot-of-chicken-soup.html\n",
        "http://www.nytimes.com/2014/05/03/arts/music/shapiro-sisters-11-and-13-add-cabaret-to-their-resume.html\n",
        "http://www.nytimes.com/2014/05/11/magazine/what-timothy-geithner-really-thinks.html\n",
        "http://artsbeat.blogs.nytimes.com/2014/04/29/tony-awards-ballot/\n",
        "http://boss.blogs.nytimes.com/2014/05/09/when-the-boss-calls-after-hours/\n",
        "http://www.nytimes.com/2014/05/09/us/a-thirsty-california-puts-a-premium-on-excess-water-use.html\n",
        "http://www.nytimes.com/2014/05/09/theater/theater-listings-for-may-9-15.html\n",
        "http://www.nytimes.com/reuters/2014/05/09/us/09reuters-nba-clippers-sterling.html\n",
        "http://www.nytimes.com/2014/03/24/theater/les-miserables-returns-to-broadway.html\n",
        "http://well.blogs.nytimes.com/2014/05/09/fed-up-asks-are-all-calories-equal/\n",
        "http://www.nytimes.com/2014/05/11/theater/sandwich-makers-and-their-stories.html\n",
        "http://artsbeat.blogs.nytimes.com/2014/05/05/box-office-bump-for-top-tony-nominees/\n",
        "http://www.nytimes.com/2014/05/09/movies/adulthood-vs-arrested-development-in-neighbors.html\n",
        "http://www.nytimes.com/2014/05/10/world/africa/nigeria.html\n",
        "http://www.nytimes.com/2014/05/04/theater/john-noble-in-the-substance-of-fire.html\n",
        "http://www.nytimes.com/2014/05/04/automobiles/collectibles/her-true-colors-in-plain-view.html\n"
       ]
      }
     ],
     "prompt_number": 60
    },
    {
     "cell_type": "code",
     "collapsed": false,
     "input": [
      "article = cnn_newspaper.articles[1]\n",
      "article.download()\n",
      "article.parse()"
     ],
     "language": "python",
     "metadata": {},
     "outputs": [],
     "prompt_number": 61
    },
    {
     "cell_type": "code",
     "collapsed": false,
     "input": [
      "article.title"
     ],
     "language": "python",
     "metadata": {},
     "outputs": [
      {
       "metadata": {},
       "output_type": "pyout",
       "prompt_number": 63,
       "text": [
        "u'TaskRabbit Expands \\u2018Deliver Now\\u2019 Beyond iOS, Bringing On-Demand Courier Service To The Web'"
       ]
      }
     ],
     "prompt_number": 63
    },
    {
     "cell_type": "code",
     "collapsed": false,
     "input": [
      "article.authors"
     ],
     "language": "python",
     "metadata": {},
     "outputs": [
      {
       "metadata": {},
       "output_type": "pyout",
       "prompt_number": 64,
       "text": [
        "[u'Colleen Taylor']"
       ]
      }
     ],
     "prompt_number": 64
    },
    {
     "cell_type": "code",
     "collapsed": false,
     "input": [
      "newspaper.__version__"
     ],
     "language": "python",
     "metadata": {},
     "outputs": [
      {
       "metadata": {},
       "output_type": "pyout",
       "prompt_number": 65,
       "text": [
        "'0.0.6'"
       ]
      }
     ],
     "prompt_number": 65
    },
    {
     "cell_type": "code",
     "collapsed": false,
     "input": [
      "import nltk"
     ],
     "language": "python",
     "metadata": {},
     "outputs": [],
     "prompt_number": 67
    },
    {
     "cell_type": "code",
     "collapsed": false,
     "input": [
      "def parts_of_speech(corpus):\n",
      "    \"returns named entity chunks in a given text\"\n",
      "    sentences = nltk.sent_tokenize(corpus)\n",
      "    tokenized = [nltk.word_tokenize(sentence) for sentence in sentences]\n",
      "    pos_tags  = [nltk.pos_tag(sentence) for sentence in tokenized]\n",
      "    return nltk.batch_ne_chunk(pos_tags, binary=True)\n"
     ],
     "language": "python",
     "metadata": {},
     "outputs": [],
     "prompt_number": 68
    },
    {
     "cell_type": "code",
     "collapsed": false,
     "input": [
      "def find_entities(chunks):\n",
      "    \"given list of tagged parts of speech, returns unique named entities\"\n",
      "\n",
      "    def traverse(tree):\n",
      "        \"recursively traverses an nltk.tree.Tree to find named entities\"\n",
      "        entity_names = []\n",
      "    \n",
      "        if hasattr(tree, 'node') and tree.node:\n",
      "            if tree.node == 'NE':\n",
      "                entity_names.append(' '.join([child[0] for child in tree]))\n",
      "            else:\n",
      "                for child in tree:\n",
      "                    entity_names.extend(traverse(child))\n",
      "    \n",
      "        return entity_names\n",
      "    \n",
      "    named_entities = []\n",
      "    \n",
      "    for chunk in chunks:\n",
      "        entities = sorted(list(set([word for tree in chunk\n",
      "                            for word in traverse(tree)])))\n",
      "        for e in entities:\n",
      "            if e not in named_entities:\n",
      "                named_entities.append(e)\n",
      "    return named_entities"
     ],
     "language": "python",
     "metadata": {},
     "outputs": [],
     "prompt_number": 69
    },
    {
     "cell_type": "code",
     "collapsed": false,
     "input": [
      "find_entities(parts_of_speech(article.text))"
     ],
     "language": "python",
     "metadata": {},
     "outputs": [
      {
       "metadata": {},
       "output_type": "pyout",
       "prompt_number": 71,
       "text": [
        "[u'San Francisco',\n",
        " u'TaskRabbit',\n",
        " u'iPhone',\n",
        " u'Dynamo Donuts',\n",
        " u'Tartine',\n",
        " u'Deliver Now',\n",
        " u'Bay',\n",
        " u'Chicago',\n",
        " u'London',\n",
        " u'New York']"
       ]
      }
     ],
     "prompt_number": 71
    },
    {
     "cell_type": "code",
     "collapsed": false,
     "input": [
      "extract_entities = lambda article:find_entities(parts_of_speech(article.text))"
     ],
     "language": "python",
     "metadata": {},
     "outputs": [],
     "prompt_number": 72
    },
    {
     "cell_type": "code",
     "collapsed": false,
     "input": [
      "extract_entities(article)"
     ],
     "language": "python",
     "metadata": {},
     "outputs": [
      {
       "metadata": {},
       "output_type": "pyout",
       "prompt_number": 73,
       "text": [
        "[u'San Francisco',\n",
        " u'TaskRabbit',\n",
        " u'iPhone',\n",
        " u'Dynamo Donuts',\n",
        " u'Tartine',\n",
        " u'Deliver Now',\n",
        " u'Bay',\n",
        " u'Chicago',\n",
        " u'London',\n",
        " u'New York']"
       ]
      }
     ],
     "prompt_number": 73
    },
    {
     "cell_type": "code",
     "collapsed": false,
     "input": [
      "def extract_entities(article):\n",
      "    article.download()\n",
      "    article.parse()\n",
      "    return find_entities(parts_of_speech(article.text))"
     ],
     "language": "python",
     "metadata": {},
     "outputs": [],
     "prompt_number": 74
    },
    {
     "cell_type": "code",
     "collapsed": false,
     "input": [
      "entities = []"
     ],
     "language": "python",
     "metadata": {},
     "outputs": [],
     "prompt_number": 75
    },
    {
     "cell_type": "code",
     "collapsed": false,
     "input": [
      "for article in nyt.articles:\n",
      "    print article.url\n",
      "    entities.extend(extract_entities(article))"
     ],
     "language": "python",
     "metadata": {},
     "outputs": [
      {
       "output_type": "stream",
       "stream": "stdout",
       "text": [
        "http://www.nytimes.com/1997/11/14/movies/theater-review-cub-comes-of-age-a-twice-told-cosmic-tale.html\n",
        "http://www.nytimes.com/2014/05/03/theater/the-box-at-irondale-center-depicts-prison-life.html"
       ]
      },
      {
       "output_type": "stream",
       "stream": "stdout",
       "text": [
        "\n",
        "http://www.nytimes.com/2014/05/09/world/middleeast/egypts-tourism-industry-grows-desperate-amid-sustained-turmoil.html"
       ]
      },
      {
       "output_type": "stream",
       "stream": "stdout",
       "text": [
        "\n",
        "http://www.nytimes.com/2014/05/09/world/europe/william-ash-an-escape-artist-who-fled-toward-danger-dies-at-96.html"
       ]
      },
      {
       "output_type": "stream",
       "stream": "stdout",
       "text": [
        "\n",
        "http://www.nytimes.com/2014/05/11/realestate/where-paper-real-estate-records-still-rule.html"
       ]
      },
      {
       "output_type": "stream",
       "stream": "stdout",
       "text": [
        "\n",
        "http://www.nytimes.com/2014/05/09/nyregion/de-blasio-new-york-budget.html"
       ]
      },
      {
       "output_type": "stream",
       "stream": "stdout",
       "text": [
        "\n",
        "http://www.nytimes.com/2014/05/08/garden/your-hand-in-marriage.html"
       ]
      },
      {
       "output_type": "stream",
       "stream": "stdout",
       "text": [
        "\n",
        "http://www.nytimes.com/video/arts/100000002870215/this-weekend-million-dollar-art-on-sale.html"
       ]
      },
      {
       "output_type": "stream",
       "stream": "stdout",
       "text": [
        "\n",
        "http://www.nytimes.com/2014/05/11/theater/theaterspecial/gentlemans-guide-to-love-murder-leads-season-surprises.html"
       ]
      },
      {
       "output_type": "stream",
       "stream": "stdout",
       "text": [
        "\n",
        "http://www.nytimes.com/2014/05/07/theater/forbidden-broadway-comes-out-swinging-a-satiric-revue.html"
       ]
      },
      {
       "output_type": "stream",
       "stream": "stdout",
       "text": [
        "\n",
        "http://www.nytimes.com/2014/05/10/your-money/four-stand-out-college-essays-about-money.html"
       ]
      },
      {
       "output_type": "stream",
       "stream": "stdout",
       "text": [
        "\n",
        "http://www.nytimes.com/2014/05/09/theater/lovebirds-twits-and-blowhards-in-the-rivals.html"
       ]
      },
      {
       "output_type": "stream",
       "stream": "stdout",
       "text": [
        "\n",
        "http://www.nytimes.com/2014/05/09/health/doctors-use-patients-immune-cells-to-shrink-cancer-tumors.html"
       ]
      },
      {
       "output_type": "stream",
       "stream": "stdout",
       "text": [
        "\n",
        "http://www.nytimes.com/reuters/2014/05/09/business/09reuters-usa-tax-avoidance.html"
       ]
      },
      {
       "output_type": "stream",
       "stream": "stdout",
       "text": [
        "\n",
        "http://www.nytimes.com/2014/05/09/us/billy-frank-jr-fighter-for-native-fishing-rights-dies-at-83.html"
       ]
      },
      {
       "output_type": "stream",
       "stream": "stdout",
       "text": [
        "\n",
        "http://www.nytimes.com/2014/05/11/fashion/unveiling-diors-cruise-collection.html"
       ]
      },
      {
       "output_type": "stream",
       "stream": "stdout",
       "text": [
        "\n",
        "http://www.nytimes.com/2014/05/09/arts/television/rosemarys-baby-is-remade-into-a-mini-series.html"
       ]
      },
      {
       "output_type": "stream",
       "stream": "stdout",
       "text": [
        "\n",
        "http://www.nytimes.com/2014/05/04/automobiles/autoreviews/if-your-bucket-list-includes-a-taco-truck.html"
       ]
      },
      {
       "output_type": "stream",
       "stream": "stdout",
       "text": [
        "\n",
        "http://www.nytimes.com/2014/05/10/opinion/indias-price-of-victory.html"
       ]
      },
      {
       "output_type": "stream",
       "stream": "stdout",
       "text": [
        "\n",
        "http://dealbook.nytimes.com/2014/05/08/ad-agency-giants-said-to-call-off-35-billion-merger/"
       ]
      },
      {
       "output_type": "stream",
       "stream": "stdout",
       "text": [
        "\n",
        "http://dealbook.nytimes.com/2014/05/09/for-apple-a-beats-deal-would-top-the-charts/"
       ]
      },
      {
       "output_type": "stream",
       "stream": "stdout",
       "text": [
        "\n",
        "http://www.nytimes.com/slideshow/2014/05/04/automobiles/collectibles/04ego-slides.html"
       ]
      },
      {
       "output_type": "stream",
       "stream": "stdout",
       "text": [
        "\n",
        "http://www.nytimes.com/2014/05/11/magazine/masala-dosa-to-die-for.html"
       ]
      },
      {
       "output_type": "stream",
       "stream": "stdout",
       "text": [
        "\n",
        "http://www.nytimes.com/2014/05/09/opinion/what-housing-recovery.html"
       ]
      },
      {
       "output_type": "stream",
       "stream": "stdout",
       "text": [
        "\n",
        "http://www.nytimes.com/2014/05/04/automobiles/small-and-city-smart-microvans-proliferate.html"
       ]
      },
      {
       "output_type": "stream",
       "stream": "stdout",
       "text": [
        "\n",
        "http://www.nytimes.com/2014/05/10/us/obama-urges-increased-energy-efficiency.html"
       ]
      },
      {
       "output_type": "stream",
       "stream": "stdout",
       "text": [
        "\n",
        "http://www.nytimes.com/2014/05/06/theater/cherry-smoke-by-james-mcmanus-at-urban-stages.html"
       ]
      },
      {
       "output_type": "stream",
       "stream": "stdout",
       "text": [
        "\n",
        "http://cityroom.blogs.nytimes.com/2014/05/09/new-york-today-mothers-day-delays/"
       ]
      },
      {
       "output_type": "stream",
       "stream": "stdout",
       "text": [
        "\n",
        "http://www.nytimes.com/2014/05/06/theater/city-of-conversation-charts-a-sea-change-in-washington.html"
       ]
      },
      {
       "output_type": "stream",
       "stream": "stdout",
       "text": [
        "\n",
        "http://www.nytimes.com/2014/05/09/business/wayne-jackson-chief-of-sonatype-on-taking-risks.html"
       ]
      },
      {
       "output_type": "stream",
       "stream": "stdout",
       "text": [
        "\n",
        "http://www.nytimes.com/2014/05/11/travel/us-trips-to-russia-fall-amid-conflict.html"
       ]
      },
      {
       "output_type": "stream",
       "stream": "stdout",
       "text": [
        "\n",
        "http://www.nytimes.com/2014/05/02/theater/a-new-run-for-here-lies-love-at-the-public.html"
       ]
      },
      {
       "output_type": "stream",
       "stream": "stdout",
       "text": [
        "\n",
        "http://www.nytimes.com/2013/04/05/theater/reviews/kinky-boots-the-harvey-fierstein-cyndi-lauper-musical.html"
       ]
      },
      {
       "output_type": "stream",
       "stream": "stdout",
       "text": [
        "\n",
        "http://www.nytimes.com/2014/05/08/greathomesanddestinations/what-you-get-for-3500000.html"
       ]
      },
      {
       "output_type": "stream",
       "stream": "stdout",
       "text": [
        "\n",
        "http://www.nytimes.com/2014/05/10/upshot/a-drink-as-complicated-as-motherhood.html"
       ]
      },
      {
       "output_type": "stream",
       "stream": "stdout",
       "text": [
        "\n",
        "http://www.nytimes.com/2014/05/09/movies/chef-a-culinary-comedy-by-jon-favreau.html"
       ]
      },
      {
       "output_type": "stream",
       "stream": "stdout",
       "text": [
        "\n",
        "http://www.nytimes.com/2014/05/05/theater/in-family-play-1979-to-present-intimate-moments-unfold.html"
       ]
      },
      {
       "output_type": "stream",
       "stream": "stdout",
       "text": [
        "\n",
        "http://www.nytimes.com/2014/05/08/greathomesanddestinations/redefining-a-beach-share.html"
       ]
      },
      {
       "output_type": "stream",
       "stream": "stdout",
       "text": [
        "\n",
        "http://theater.nytimes.com/show/195436/Cinderella-A-Fairy-God-Mother-s-Tale/overview"
       ]
      },
      {
       "output_type": "stream",
       "stream": "stdout",
       "text": [
        "\n",
        "http://www.nytimes.com/2014/05/11/realestate/hamptons-real-estate-west-of-the-shinnecock-canal.html"
       ]
      },
      {
       "output_type": "stream",
       "stream": "stdout",
       "text": [
        "\n",
        "http://www.nytimes.com/2014/05/10/business/morgan-stanley-is-still-silicon-valleys-bank-of-choice.html"
       ]
      },
      {
       "output_type": "stream",
       "stream": "stdout",
       "text": [
        "\n",
        "http://www.nytimes.com/roomfordebate/2014/05/08/climate-debate-isnt-so-heated-in-the-us/"
       ]
      },
      {
       "output_type": "stream",
       "stream": "stdout",
       "text": [
        "\n",
        "http://www.nytimes.com/2014/05/10/us/politics/postal-service-reports-loss-of-1-9-billion-in-2nd-quarter.html"
       ]
      },
      {
       "output_type": "stream",
       "stream": "stdout",
       "text": [
        "\n",
        "http://www.nytimes.com/2014/05/10/world/africa/south-africa-vote.html"
       ]
      },
      {
       "output_type": "stream",
       "stream": "stdout",
       "text": [
        "\n",
        "http://www.nytimes.com/2014/05/09/business/recalled-used-cars-roam-the-roads-as-federal-legislation-stalls.html"
       ]
      },
      {
       "output_type": "stream",
       "stream": "stdout",
       "text": [
        "\n",
        "http://tmagazine.blogs.nytimes.com/2014/05/09/the-art-of-eating-cai-guo-qiang-marianne-vitale-urs-fischer/"
       ]
      },
      {
       "output_type": "stream",
       "stream": "stdout",
       "text": [
        "\n",
        "http://www.nytimes.com/2014/01/13/theater/beautiful-the-carole-king-musical-at-sondheim-theater.html"
       ]
      },
      {
       "output_type": "stream",
       "stream": "stdout",
       "text": [
        "\n",
        "http://www.nytimes.com/2014/05/11/movies/james-gray-and-joaquin-phoenix-reunite-in-the-immigrant.html"
       ]
      },
      {
       "output_type": "stream",
       "stream": "stdout",
       "text": [
        "\n",
        "http://www.nytimes.com/2014/05/10/your-money/a-multimillion-dollar-battle-could-complicate-getting-what-youre-owed.html"
       ]
      },
      {
       "output_type": "stream",
       "stream": "stdout",
       "text": [
        "\n",
        "http://www.nytimes.com/2014/05/09/arts/design/charles-james-beyond-fashion-a-retrospective-at-the-met.html"
       ]
      },
      {
       "output_type": "stream",
       "stream": "stdout",
       "text": [
        "\n",
        "http://www.nytimes.com/2014/05/11/theater/theaterspecial/and-the-nominees-should-be-isherwood.html"
       ]
      },
      {
       "output_type": "stream",
       "stream": "stdout",
       "text": [
        "\n",
        "http://www.nytimes.com/2014/05/11/travel/a-working-vacation-on-an-umbrian-farm.html"
       ]
      },
      {
       "output_type": "stream",
       "stream": "stdout",
       "text": [
        "\n",
        "http://dealbook.nytimes.com/2014/05/09/weekend-reading-5-questions-for-alibabas-i-p-o/"
       ]
      },
      {
       "output_type": "stream",
       "stream": "stdout",
       "text": [
        "\n",
        "http://www.nytimes.com/2014/05/10/opinion/the-travails-of-thailand.html"
       ]
      },
      {
       "output_type": "stream",
       "stream": "stdout",
       "text": [
        "\n",
        "http://www.nytimes.com/2005/07/15/theater/reviews/15zino.html"
       ]
      },
      {
       "output_type": "stream",
       "stream": "stdout",
       "text": [
        "\n",
        "http://www.nytimes.com/2014/05/11/opinion/sunday/professors-are-prejudiced-too.html"
       ]
      },
      {
       "output_type": "stream",
       "stream": "stdout",
       "text": [
        "\n",
        "http://www.nytimes.com/2014/05/10/sports/soccer/as-luis-suarez-cleans-up-his-image-liverpool-sees-the-results.html"
       ]
      },
      {
       "output_type": "stream",
       "stream": "stdout",
       "text": [
        "\n",
        "http://www.nytimes.com/2014/05/11/theater/theaterspecial/nick-cordero-strives-for-tough-in-bullets-over-broadway.html"
       ]
      },
      {
       "output_type": "stream",
       "stream": "stdout",
       "text": [
        "\n",
        "http://www.nytimes.com/2014/05/09/theater/samantha-spade-ace-detective-tale-of-a-teenage-sleuth.html"
       ]
      },
      {
       "output_type": "stream",
       "stream": "stdout",
       "text": [
        "\n",
        "http://www.nytimes.com/reuters/2014/05/09/world/europe/09reuters-eu-election-debate.html"
       ]
      },
      {
       "output_type": "stream",
       "stream": "stdout",
       "text": [
        "\n",
        "http://www.nytimes.com/2014/04/20/opinion/sunday/this-time-get-global-trade-right.html"
       ]
      },
      {
       "output_type": "stream",
       "stream": "stdout",
       "text": [
        "\n",
        "http://www.nytimes.com/2014/05/08/theater/playing-with-grown-ups-by-hannah-patterson-at-59e59.html"
       ]
      },
      {
       "output_type": "stream",
       "stream": "stdout",
       "text": [
        "\n",
        "http://www.nytimes.com/2014/05/09/arts/design/maria-lassnig-painter-of-self-from-the-inside-out-dies-at-94.html"
       ]
      },
      {
       "output_type": "stream",
       "stream": "stdout",
       "text": [
        "\n",
        "http://www.nytimes.com/2014/05/10/us/at-evangelical-christian-colleges-leadership-is-often-the-family-business.html"
       ]
      },
      {
       "output_type": "stream",
       "stream": "stdout",
       "text": [
        "\n",
        "http://www.nytimes.com/2014/05/09/opinion/brooks-the-real-africa.html"
       ]
      },
      {
       "output_type": "stream",
       "stream": "stdout",
       "text": [
        "\n",
        "http://www.nytimes.com/news/minute/2014/05/09/times-minute-costa-concordias-end/"
       ]
      },
      {
       "output_type": "stream",
       "stream": "stdout",
       "text": [
        "\n",
        "http://www.nytimes.com/2014/05/09/sports/football/personalizing-jerseys-of-top-nfl-picks-is-a-race-against-the-clock.html"
       ]
      },
      {
       "output_type": "stream",
       "stream": "stdout",
       "text": [
        "\n",
        "http://artsbeat.blogs.nytimes.com/2014/05/06/in-performance-vanessa-williams-of-after-midnight/"
       ]
      },
      {
       "output_type": "stream",
       "stream": "stdout",
       "text": [
        "\n",
        "http://www.nytimes.com/2014/05/10/upshot/fedexs-price-rise-is-a-blessing-in-disguise-for-amazon.html"
       ]
      },
      {
       "output_type": "stream",
       "stream": "stdout",
       "text": [
        "\n",
        "http://www.nytimes.com/2014/05/11/theater/theaterspecial/hearing-from-the-women-who-made-the-years-musicals-sing.html"
       ]
      },
      {
       "output_type": "stream",
       "stream": "stdout",
       "text": [
        "\n",
        "http://www.nytimes.com/2014/05/09/opinion/krugman-now-thats-rich.html"
       ]
      },
      {
       "output_type": "stream",
       "stream": "stdout",
       "text": [
        "\n",
        "http://da.feedsportal.com/r/195505720594/u/0/f/640350/c/34625/s/3a3743cc/sc/1/rc/1/rc.htm"
       ]
      },
      {
       "output_type": "stream",
       "stream": "stdout",
       "text": [
        "\n",
        "http://www.nytimes.com/2013/04/15/theater/reviews/motown-the-musical-berry-gordys-story.html"
       ]
      },
      {
       "output_type": "stream",
       "stream": "stdout",
       "text": [
        "\n",
        "http://www.nytimes.com/2014/05/11/books/review/capital-by-rana-dasgupta.html"
       ]
      },
      {
       "output_type": "stream",
       "stream": "stdout",
       "text": [
        "\n",
        "http://www.nytimes.com/2014/05/04/nyregion/a-review-of-the-house-that-will-not-stand-in-new-haven.html"
       ]
      },
      {
       "output_type": "stream",
       "stream": "stdout",
       "text": [
        "\n",
        "http://www.nytimes.com/2014/05/10/world/europe/russia-celebrates-victory-day.html"
       ]
      },
      {
       "output_type": "stream",
       "stream": "stdout",
       "text": [
        "\n",
        "http://www.nytimes.com/2014/05/08/fashion/garance-dore-the-style-blogger-snatches-the-spotlight.html"
       ]
      },
      {
       "output_type": "stream",
       "stream": "stdout",
       "text": [
        "\n",
        "http://www.nytimes.com/2014/05/03/theater/peddling-in-brits-off-broadway-plumbs-a-youths-soul.html"
       ]
      },
      {
       "output_type": "stream",
       "stream": "stdout",
       "text": [
        "\n",
        "http://www.nytimes.com/2014/05/11/books/review/midnights-descendants-by-john-keay.html"
       ]
      },
      {
       "output_type": "stream",
       "stream": "stdout",
       "text": [
        "\n",
        "http://www.nytimes.com/2014/05/09/arts/design/frieze-restages-ruppersbergs-als-grand-hotel.html"
       ]
      },
      {
       "output_type": "stream",
       "stream": "stdout",
       "text": [
        "\n",
        "http://artsbeat.blogs.nytimes.com/2014/05/05/critics-circle-names-fun-home-best-musical/"
       ]
      },
      {
       "output_type": "stream",
       "stream": "stdout",
       "text": [
        "\n",
        "http://www.nytimes.com/2014/05/09/us/compromise-on-gays-pleases-no-one-scouts-are-learning.html"
       ]
      },
      {
       "output_type": "stream",
       "stream": "stdout",
       "text": [
        "\n",
        "http://www.nytimes.com/2014/05/10/nyregion/at-the-end-of-the-line-a-final-toast-to-the-bar-car.html"
       ]
      },
      {
       "output_type": "stream",
       "stream": "stdout",
       "text": [
        "\n",
        "http://www.nytimes.com/2014/05/09/theater/irma-la-douce-back-on-the-streets.html"
       ]
      },
      {
       "output_type": "stream",
       "stream": "stdout",
       "text": [
        "\n",
        "http://www.nytimes.com/2014/05/08/opinion/love-and-stuff.html"
       ]
      },
      {
       "output_type": "stream",
       "stream": "stdout",
       "text": [
        "\n",
        "http://www.nytimes.com/2014/05/09/movies/in-stage-fright-a-killer-at-theater-camp.html"
       ]
      },
      {
       "output_type": "stream",
       "stream": "stdout",
       "text": [
        "\n",
        "http://www.nytimes.com/slideshow/2014/04/29/theater/theaterspecial/20140429-tony-nominations.html"
       ]
      },
      {
       "output_type": "stream",
       "stream": "stdout",
       "text": [
        "\n",
        "http://www.nytimes.com/2014/05/09/nyregion/newark-mayoral-race-seen-as-referendum-on-booker.html"
       ]
      },
      {
       "output_type": "stream",
       "stream": "stdout",
       "text": [
        "\n",
        "http://www.nytimes.com/2014/05/11/theater/theaterspecial/moving-your-show-to-broadway-not-so-fast.html"
       ]
      },
      {
       "output_type": "stream",
       "stream": "stdout",
       "text": [
        "\n",
        "http://www.nytimes.com/2014/05/08/theater/the-racially-charged-dutchman-at-national-black-theater.html"
       ]
      },
      {
       "output_type": "stream",
       "stream": "stdout",
       "text": [
        "\n",
        "http://www.nytimes.com/2014/05/09/science/a-synthetic-biology-conference-lures-an-intriguing-audience.html"
       ]
      },
      {
       "output_type": "stream",
       "stream": "stdout",
       "text": [
        "\n",
        "http://well.blogs.nytimes.com/2014/05/08/living-with-cancer-careless-care/"
       ]
      },
      {
       "output_type": "stream",
       "stream": "stdout",
       "text": [
        "\n",
        "http://dealbook.nytimes.com/2014/05/08/pfizer-plan-to-go-to-london-spurs-other-companies-to-consider-moving-abroad/"
       ]
      },
      {
       "output_type": "stream",
       "stream": "stdout",
       "text": [
        "\n",
        "http://www.nytimes.com/2011/03/25/theater/reviews/the-book-of-mormon-at-eugene-oneill-theater-review.html"
       ]
      },
      {
       "output_type": "stream",
       "stream": "stdout",
       "text": [
        "\n",
        "http://www.nytimes.com/2014/05/14/dining/putting-a-face-on-pinot-blanc.html"
       ]
      },
      {
       "output_type": "stream",
       "stream": "stdout",
       "text": [
        "\n",
        "http://www.nytimes.com/interactive/2014/05/09/business/student-essays-your-money.html"
       ]
      },
      {
       "output_type": "stream",
       "stream": "stdout",
       "text": [
        "\n",
        "http://www.nytimes.com/2014/05/11/arts/television/the-11th-most-fascinating-person-ever.html"
       ]
      },
      {
       "output_type": "stream",
       "stream": "stdout",
       "text": [
        "\n",
        "http://www.nytimes.com/2014/05/10/your-money/an-update-on-the-4-students-whose-college-essays-were-featured.html"
       ]
      },
      {
       "output_type": "stream",
       "stream": "stdout",
       "text": [
        "\n",
        "http://www.nytimes.com/2014/05/09/opinion/druckerman-the-russians-love-their-children-too.html"
       ]
      },
      {
       "output_type": "stream",
       "stream": "stdout",
       "text": [
        "\n",
        "http://www.nytimes.com/2014/05/08/garden/grandma-never-had-it-so-good.html"
       ]
      },
      {
       "output_type": "stream",
       "stream": "stdout",
       "text": [
        "\n",
        "http://www.nytimes.com/2013/11/18/theater/reviews/a-gentlemans-guide-to-love-and-murder-on-broadway.html"
       ]
      },
      {
       "output_type": "stream",
       "stream": "stdout",
       "text": [
        "\n",
        "http://tmagazine.blogs.nytimes.com/2014/05/09/amanda-sharp-frieze-new-york-pussy-riot-cecilia-alemani-gladstone-marian-goodman-gagosian-ruscha/"
       ]
      },
      {
       "output_type": "stream",
       "stream": "stdout",
       "text": [
        "\n",
        "http://www.nytimes.com/2014/05/05/theater/an-octoroon-a-slave-era-tale-at-soho-rep.html"
       ]
      },
      {
       "output_type": "stream",
       "stream": "stdout",
       "text": [
        "\n",
        "http://www.nytimes.com/aponline/2014/05/09/us/ap-us-baby-names-list.html"
       ]
      },
      {
       "output_type": "stream",
       "stream": "stdout",
       "text": [
        "\n",
        "http://www.nytimes.com/2014/05/09/greathomesanddestinations/developer-celebrates-london-project-with-a-play.html"
       ]
      },
      {
       "output_type": "stream",
       "stream": "stdout",
       "text": [
        "\n",
        "http://sports.blogs.nytimes.com/2014/05/08/highlights-and-analysis-of-the-2014-n-f-l-draft-round-1/"
       ]
      },
      {
       "output_type": "stream",
       "stream": "stdout",
       "text": [
        "\n",
        "http://www.nytimes.com/2014/04/04/theater/raisin-in-the-sun-brings-denzel-washington-back-to-broadway.html"
       ]
      },
      {
       "output_type": "stream",
       "stream": "stdout",
       "text": [
        "\n",
        "http://www.nytimes.com/2014/05/11/travel/echoes-of-history-at-a-tuscan-estate.html"
       ]
      },
      {
       "output_type": "stream",
       "stream": "stdout",
       "text": [
        "\n",
        "http://da.feedsportal.com/r/195505720594/u/0/f/640350/c/34625/s/3a3743cc/sc/1/rc/3/rc.htm"
       ]
      },
      {
       "output_type": "stream",
       "stream": "stdout",
       "text": [
        "\n",
        "http://www.nytimes.com/2014/05/09/upshot/vaccine-opponents-can-be-immune-to-education.html"
       ]
      },
      {
       "output_type": "stream",
       "stream": "stdout",
       "text": [
        "\n",
        "http://www.nytimes.com/2014/05/08/theater/fabulous-miss-marie-drinks-and-dances-at-castillo-theater.html"
       ]
      },
      {
       "output_type": "stream",
       "stream": "stdout",
       "text": [
        "\n",
        "http://www.nytimes.com/2014/05/10/us/politics/boehner-appoints-7-republicans-to-benghazi-panel.html"
       ]
      },
      {
       "output_type": "stream",
       "stream": "stdout",
       "text": [
        "\n",
        "http://takingnote.blogs.nytimes.com/2014/05/09/when-jet-mattered/"
       ]
      },
      {
       "output_type": "stream",
       "stream": "stdout",
       "text": [
        "\n",
        "http://www.nytimes.com/2014/05/09/sports/football/2014-nfl-draft-results-day-one.html"
       ]
      },
      {
       "output_type": "stream",
       "stream": "stdout",
       "text": [
        "\n",
        "http://www.nytimes.com/2014/04/27/sunday-review/a-birdbath-size-hole-and-the-future-of-golf.html"
       ]
      },
      {
       "output_type": "stream",
       "stream": "stdout",
       "text": [
        "\n",
        "http://tmagazine.blogs.nytimes.com/2014/05/09/flashback-memories-of-the-paradise-garage-larry-levan-street-party/"
       ]
      },
      {
       "output_type": "stream",
       "stream": "stdout",
       "text": [
        "\n",
        "http://www.nytimes.com/2014/05/11/nyregion/theyre-stompin-on-avenue-b.html"
       ]
      },
      {
       "output_type": "stream",
       "stream": "stdout",
       "text": [
        "\n",
        "http://www.nytimes.com/2014/05/11/sunday-review/in-rwanda-finding-echoes-of-germany.html"
       ]
      },
      {
       "output_type": "stream",
       "stream": "stdout",
       "text": [
        "\n",
        "http://www.nytimes.com/2014/05/11/magazine/addict-informant-mother.html"
       ]
      },
      {
       "output_type": "stream",
       "stream": "stdout",
       "text": [
        "\n",
        "http://www.nytimes.com/2014/05/06/theater/the-spring-fling-first-love-at-the-access-theater.html"
       ]
      },
      {
       "output_type": "stream",
       "stream": "stdout",
       "text": [
        "\n",
        "http://www.nytimes.com/2014/05/11/theater/theaterspecial/and-the-nominees-should-be.html"
       ]
      },
      {
       "output_type": "stream",
       "stream": "stdout",
       "text": [
        "\n",
        "http://www.nytimes.com/2014/05/09/books/the-noble-hustle-by-colson-whitehead.html"
       ]
      },
      {
       "output_type": "stream",
       "stream": "stdout",
       "text": [
        "\n",
        "http://da.feedsportal.com/r/195505720594/u/0/f/640350/c/34625/s/3a3743cc/sc/1/a2.htm"
       ]
      },
      {
       "output_type": "stream",
       "stream": "stdout",
       "text": [
        "\n",
        "http://www.nytimes.com/2014/05/10/arts/television/eurovision-splashes-into-2014-finals-to-rapt-audiences.html"
       ]
      },
      {
       "output_type": "stream",
       "stream": "stdout",
       "text": [
        "\n",
        "http://www.nytimes.com/2014/05/10/world/europe/ukraine-forces-destroy-police-building-in-restive-east.html"
       ]
      },
      {
       "output_type": "stream",
       "stream": "stdout",
       "text": [
        "\n",
        "http://www.nytimes.com/2014/05/10/sports/basketball/nets-need-more-than-good-game-plan-to-beat-the-heat.html"
       ]
      },
      {
       "output_type": "stream",
       "stream": "stdout",
       "text": [
        "\n",
        "http://artsbeat.blogs.nytimes.com/2014/05/08/hal-brooks-will-oversee-pearl-theater-company/"
       ]
      },
      {
       "output_type": "stream",
       "stream": "stdout",
       "text": [
        "\n",
        "http://www.nytimes.com/2014/05/10/world/asia/south-koreas-leader-and-media-face-scrutiny-over-ferry-disaster.html"
       ]
      },
      {
       "output_type": "stream",
       "stream": "stdout",
       "text": [
        "\n",
        "http://www.nytimes.com/2014/05/09/sports/basketball/coming-off-rout-nets-adjust-but-are-left-adrift.html"
       ]
      },
      {
       "output_type": "stream",
       "stream": "stdout",
       "text": [
        "\n",
        "http://www.nytimes.com/2014/05/09/opinion/egan-can-the-kochs-hold-back-history.html"
       ]
      },
      {
       "output_type": "stream",
       "stream": "stdout",
       "text": [
        "\n",
        "http://www.nytimes.com/2014/05/09/world/europe/ukraine.html"
       ]
      },
      {
       "output_type": "stream",
       "stream": "stdout",
       "text": [
        "\n",
        "http://www.nytimes.com/2014/05/11/realestate/upper-west-side-brownstone-with-modern-twists.html"
       ]
      },
      {
       "output_type": "stream",
       "stream": "stdout",
       "text": [
        "\n",
        "http://www.nytimes.com/2014/05/08/theater/17-orchard-point-a-tale-of-a-strained-family.html"
       ]
      },
      {
       "output_type": "stream",
       "stream": "stdout",
       "text": [
        "\n",
        "http://dealbook.nytimes.com/2014/05/08/apple-said-to-be-in-talks-to-buy-beats-for-3-2-billion/"
       ]
      },
      {
       "output_type": "stream",
       "stream": "stdout",
       "text": [
        "\n",
        "http://www.nytimes.com/2014/03/21/theater/aladdin-tweaks-the-disney-formula-with-breezy-insouciance.html"
       ]
      },
      {
       "output_type": "stream",
       "stream": "stdout",
       "text": [
        "\n",
        "http://tmagazine.blogs.nytimes.com/2014/05/09/legs-frieze-new-york-guillaume-leblon-adam-mcewen-nicolai-wallner/"
       ]
      },
      {
       "output_type": "stream",
       "stream": "stdout",
       "text": [
        "\n",
        "http://www.nytimes.com/2014/05/06/theater/swing-beowulf-at-the-irish-arts-center.html"
       ]
      },
      {
       "output_type": "stream",
       "stream": "stdout",
       "text": [
        "\n",
        "http://artsbeat.blogs.nytimes.com/2014/05/08/the-river-with-hugh-jackman-is-set-for-october-opening-on-broadway/"
       ]
      },
      {
       "output_type": "stream",
       "stream": "stdout",
       "text": [
        "\n",
        "http://www.nytimes.com/2014/03/07/theater/bryan-cranston-as-president-johnson-in-all-the-way.html"
       ]
      },
      {
       "output_type": "stream",
       "stream": "stdout",
       "text": [
        "\n",
        "http://www.nytimes.com/2014/05/09/upshot/why-you-should-pay-frontiers-carry-on-bag-fee-with-a-smile.html"
       ]
      },
      {
       "output_type": "stream",
       "stream": "stdout",
       "text": [
        "\n",
        "http://www.nytimes.com/2014/05/11/books/review/gandhi-before-india-by-ramachandra-guha.html"
       ]
      },
      {
       "output_type": "stream",
       "stream": "stdout",
       "text": [
        "\n",
        "http://www.nytimes.com/2014/05/09/world/africa/schoolgirl-abductions-put-scrutiny-on-us-terrorism-strategy.html"
       ]
      },
      {
       "output_type": "stream",
       "stream": "stdout",
       "text": [
        "\n",
        "http://www.nytimes.com/2014/05/10/business/bmw-to-expand-us-plant-in-push-for-lighter-and-more-fuel-efficient-cars.html"
       ]
      },
      {
       "output_type": "stream",
       "stream": "stdout",
       "text": [
        "\n",
        "http://www.nytimes.com/2014/05/11/theater/theaterspecial/surprising-visits-from-washington-and-radcliffe.html"
       ]
      },
      {
       "output_type": "stream",
       "stream": "stdout",
       "text": [
        "\n",
        "http://www.nytimes.com/2014/05/09/nyregion/medicaid-shift-fuels-rush-for-profitable-clients.html"
       ]
      },
      {
       "output_type": "stream",
       "stream": "stdout",
       "text": [
        "\n",
        "http://www.nytimes.com/2014/05/11/theater/theaterspecial/tony-shalhoub-juggles-characters-in-act-one.html"
       ]
      },
      {
       "output_type": "stream",
       "stream": "stdout",
       "text": [
        "\n",
        "http://www.nytimes.com/2014/05/09/us/politics/obama-to-give-push-on-climate.html"
       ]
      },
      {
       "output_type": "stream",
       "stream": "stdout",
       "text": [
        "\n",
        "http://www.nytimes.com/2014/05/10/automobiles/ford-recalls-1-4-million-crossovers-gm-recalls-9000-sedans.html"
       ]
      },
      {
       "output_type": "stream",
       "stream": "stdout",
       "text": [
        "\n",
        "http://www.nytimes.com/2014/05/09/world/americas/deadly-illness-in-nicaragua-baffles-experts.html"
       ]
      },
      {
       "output_type": "stream",
       "stream": "stdout",
       "text": [
        "\n",
        "http://www.nytimes.com/2014/05/08/fashion/Wanelo-Social-Media-Shopping-Site-Deena-Varshavskaya-ecommerce.html"
       ]
      },
      {
       "output_type": "stream",
       "stream": "stdout",
       "text": [
        "\n",
        "http://www.nytimes.com/2014/05/09/opinion/center-ring-at-the-republican-circus.html"
       ]
      },
      {
       "output_type": "stream",
       "stream": "stdout",
       "text": [
        "\n",
        "http://www.nytimes.com/2014/05/09/technology/hachette-says-amazon-is-delaying-delivery-of-some-books.html"
       ]
      },
      {
       "output_type": "stream",
       "stream": "stdout",
       "text": [
        "\n",
        "http://da.feedsportal.com/r/195505720594/u/0/f/640350/c/34625/s/3a3743cc/sc/1/rc/2/rc.htm"
       ]
      },
      {
       "output_type": "stream",
       "stream": "stdout",
       "text": [
        "\n",
        "http://www.nytimes.com/2014/05/11/travel/36-hours-in-ho-chi-minh-city-vietnam.html"
       ]
      },
      {
       "output_type": "stream",
       "stream": "stdout",
       "text": [
        "\n",
        "http://www.nytimes.com/2014/05/14/dining/green-garlic-stirs-a-pot-of-chicken-soup.html"
       ]
      },
      {
       "output_type": "stream",
       "stream": "stdout",
       "text": [
        "\n",
        "http://www.nytimes.com/2014/05/03/arts/music/shapiro-sisters-11-and-13-add-cabaret-to-their-resume.html"
       ]
      },
      {
       "output_type": "stream",
       "stream": "stdout",
       "text": [
        "\n",
        "http://www.nytimes.com/2014/05/11/magazine/what-timothy-geithner-really-thinks.html"
       ]
      },
      {
       "output_type": "stream",
       "stream": "stdout",
       "text": [
        "\n",
        "http://artsbeat.blogs.nytimes.com/2014/04/29/tony-awards-ballot/"
       ]
      },
      {
       "output_type": "stream",
       "stream": "stdout",
       "text": [
        "\n",
        "http://boss.blogs.nytimes.com/2014/05/09/when-the-boss-calls-after-hours/"
       ]
      },
      {
       "output_type": "stream",
       "stream": "stdout",
       "text": [
        "\n",
        "http://www.nytimes.com/2014/05/09/us/a-thirsty-california-puts-a-premium-on-excess-water-use.html"
       ]
      },
      {
       "output_type": "stream",
       "stream": "stdout",
       "text": [
        "\n",
        "http://www.nytimes.com/2014/05/09/theater/theater-listings-for-may-9-15.html"
       ]
      },
      {
       "output_type": "stream",
       "stream": "stdout",
       "text": [
        "\n",
        "http://www.nytimes.com/reuters/2014/05/09/us/09reuters-nba-clippers-sterling.html"
       ]
      },
      {
       "output_type": "stream",
       "stream": "stdout",
       "text": [
        "\n",
        "http://www.nytimes.com/2014/03/24/theater/les-miserables-returns-to-broadway.html"
       ]
      },
      {
       "output_type": "stream",
       "stream": "stdout",
       "text": [
        "\n",
        "http://well.blogs.nytimes.com/2014/05/09/fed-up-asks-are-all-calories-equal/"
       ]
      },
      {
       "output_type": "stream",
       "stream": "stdout",
       "text": [
        "\n",
        "http://www.nytimes.com/2014/05/11/theater/sandwich-makers-and-their-stories.html"
       ]
      },
      {
       "output_type": "stream",
       "stream": "stdout",
       "text": [
        "\n",
        "http://artsbeat.blogs.nytimes.com/2014/05/05/box-office-bump-for-top-tony-nominees/"
       ]
      },
      {
       "output_type": "stream",
       "stream": "stdout",
       "text": [
        "\n",
        "http://www.nytimes.com/2014/05/09/movies/adulthood-vs-arrested-development-in-neighbors.html"
       ]
      },
      {
       "output_type": "stream",
       "stream": "stdout",
       "text": [
        "\n",
        "http://www.nytimes.com/2014/05/10/world/africa/nigeria.html"
       ]
      },
      {
       "output_type": "stream",
       "stream": "stdout",
       "text": [
        "\n",
        "http://www.nytimes.com/2014/05/04/theater/john-noble-in-the-substance-of-fire.html"
       ]
      },
      {
       "output_type": "stream",
       "stream": "stdout",
       "text": [
        "\n",
        "http://www.nytimes.com/2014/05/04/automobiles/collectibles/her-true-colors-in-plain-view.html"
       ]
      },
      {
       "output_type": "stream",
       "stream": "stdout",
       "text": [
        "\n"
       ]
      }
     ],
     "prompt_number": 78
    },
    {
     "cell_type": "code",
     "collapsed": false,
     "input": [
      "entities"
     ],
     "language": "python",
     "metadata": {},
     "outputs": [
      {
       "metadata": {},
       "output_type": "pyout",
       "prompt_number": 79,
       "text": [
        "[u'Beast',\n",
        " u'Broadway',\n",
        " u'Disney',\n",
        " u'Such',\n",
        " u'Walt Disney Company',\n",
        " u'African',\n",
        " u'Life',\n",
        " u'Eden',\n",
        " u'New Amsterdam Theater',\n",
        " u'Ziegfeld',\n",
        " u'Darien',\n",
        " u'Irene Mecchi',\n",
        " u'Lincoln Center',\n",
        " u'Roger Allers',\n",
        " u'Donald Trump',\n",
        " u'Karen Finley',\n",
        " u'Bunraku',\n",
        " u'Africa',\n",
        " u'Asia',\n",
        " u'Astaire',\n",
        " u'Fred Astaire',\n",
        " u'Ginger Rogers',\n",
        " u'Katharine Hepburn',\n",
        " u'Donald Holder',\n",
        " u'Michael Curry',\n",
        " u'Richard Hudson',\n",
        " u'John Vickery',\n",
        " u'Mufasa',\n",
        " u'Samuel',\n",
        " u'Scar',\n",
        " u'Simba',\n",
        " u'United States',\n",
        " u'Black Comedy',\n",
        " u'Brooklyn',\n",
        " u'Irondale Center',\n",
        " u'Marcus Gardley',\n",
        " u'Foundry Theater',\n",
        " u'Directed',\n",
        " u'Icarus',\n",
        " u'Seth Bockley',\n",
        " u'Deadlust',\n",
        " u'Mikeah Ernest Jennings',\n",
        " u'Mimi',\n",
        " u'Mr. Gardley',\n",
        " u'MenOfTar',\n",
        " u'Minotaur',\n",
        " u'Long Distance Runner',\n",
        " u'Mr. Best',\n",
        " u'Mr. Brown',\n",
        " u'Jay Scheib',\n",
        " u'Mr. Jennings',\n",
        " u'Young Jean Lee',\n",
        " u'Mr. Bockley',\n",
        " u'CAIRO',\n",
        " u'Persian Gulf',\n",
        " u'Egypt',\n",
        " u'Cairo',\n",
        " u'Cosmos',\n",
        " u'Khaled M. Ismail',\n",
        " u'Ismail',\n",
        " u'Raafat Ferghani Khattab',\n",
        " u'Mr. Khattab',\n",
        " u'Swedish',\n",
        " u'Islamist',\n",
        " u'Mohamed Morsi',\n",
        " u'Sinai',\n",
        " u'South Korean',\n",
        " u'Tourism',\n",
        " u'Arab',\n",
        " u'European',\n",
        " u'United States',\n",
        " u'Latvia',\n",
        " u'Giza',\n",
        " u'Egyptian Museum',\n",
        " u'Tahrir Square',\n",
        " u'Abdel Fattah',\n",
        " u'Mr. Sisi',\n",
        " u'Egyptian',\n",
        " u'Thailand',\n",
        " u'Thais',\n",
        " u'Alaa Mosaad',\n",
        " u'German',\n",
        " u'Mr. Mosaad',\n",
        " u'Mohamed Atef',\n",
        " u'France',\n",
        " u'Paris',\n",
        " u'Spitfire',\n",
        " u'William Ash',\n",
        " u'England',\n",
        " u'Spain',\n",
        " u'Louvre',\n",
        " u'Parisian',\n",
        " u'Brendan Foley',\n",
        " u'London',\n",
        " u'Mr. Ash',\n",
        " u'Fresnes Prison',\n",
        " u'Gestapo',\n",
        " u'Pilot Officer Ash',\n",
        " u'Germany',\n",
        " u'Lithuania',\n",
        " u'Poland',\n",
        " u'Monopoly',\n",
        " u'Stalag Luft III',\n",
        " u'American',\n",
        " u'Steve',\n",
        " u'Virgil Hilts',\n",
        " u'Mr.',\n",
        " u'John Sturges',\n",
        " u'Dallas',\n",
        " u'William Franklin',\n",
        " u'George Coe',\n",
        " u'New Mexico',\n",
        " u'Texas',\n",
        " u'University',\n",
        " u'Bonnie',\n",
        " u'Clyde',\n",
        " u'Dallas Morning News',\n",
        " u'Hitler',\n",
        " u'Royal Canadian Air Force',\n",
        " u'Spanish Civil War',\n",
        " u'United States',\n",
        " u'Ambassador Bridge',\n",
        " u'Canada',\n",
        " u'Calais',\n",
        " u'German',\n",
        " u'British',\n",
        " u'British Empire',\n",
        " u'British Broadcasting',\n",
        " u'India',\n",
        " u'Oxford',\n",
        " u'BBC',\n",
        " u'Communist Party',\n",
        " u'Maoist',\n",
        " u'Patricia Rambault',\n",
        " u'Royal Navy',\n",
        " u'Ranjana Sidhanta',\n",
        " u'Francis',\n",
        " u'Julia Ash',\n",
        " u'Great Britain',\n",
        " u'Don Fair',\n",
        " u'Heydekrug',\n",
        " u'Silute',\n",
        " u'Stalag Luft VI',\n",
        " u'New Zealander',\n",
        " u'Lithuanian',\n",
        " u'German Army',\n",
        " u'Manhattan',\n",
        " u'New York',\n",
        " u'Wall Street',\n",
        " u'Broadway',\n",
        " u'New York State',\n",
        " u'Real Estate Finance Bureau',\n",
        " u'Dewey',\n",
        " u'Long',\n",
        " u'Holland',\n",
        " u'Knight',\n",
        " u'Stuart M. Saft',\n",
        " u'Mr. Saft',\n",
        " u'Albany',\n",
        " u'Troy',\n",
        " u'Erica',\n",
        " u'Ballston Spa',\n",
        " u'Urban Homesteading Assistance Board',\n",
        " u'Jeffrey Buckley',\n",
        " u'Lower East Side',\n",
        " u'Rainer',\n",
        " u'Taft',\n",
        " u'Wickersham',\n",
        " u'Microsoft',\n",
        " u'Buckley',\n",
        " u'Regardless',\n",
        " u'Beast',\n",
        " u'Broadway',\n",
        " u'Disney',\n",
        " u'Such',\n",
        " u'Walt Disney Company',\n",
        " u'African',\n",
        " u'Life',\n",
        " u'Eden',\n",
        " u'New Amsterdam Theater',\n",
        " u'Ziegfeld',\n",
        " u'Darien',\n",
        " u'Irene Mecchi',\n",
        " u'Lincoln Center',\n",
        " u'Roger Allers',\n",
        " u'Donald Trump',\n",
        " u'Karen Finley',\n",
        " u'Bunraku',\n",
        " u'Africa',\n",
        " u'Asia',\n",
        " u'Astaire',\n",
        " u'Fred Astaire',\n",
        " u'Ginger Rogers',\n",
        " u'Katharine Hepburn',\n",
        " u'Donald Holder',\n",
        " u'Michael Curry',\n",
        " u'Richard Hudson',\n",
        " u'John Vickery',\n",
        " u'Mufasa',\n",
        " u'Samuel',\n",
        " u'Scar',\n",
        " u'Simba',\n",
        " u'United States',\n",
        " u'Black Comedy',\n",
        " u'Brooklyn',\n",
        " u'Irondale Center',\n",
        " u'Marcus Gardley',\n",
        " u'Foundry Theater',\n",
        " u'Directed',\n",
        " u'Icarus',\n",
        " u'Seth Bockley',\n",
        " u'Deadlust',\n",
        " u'Mikeah Ernest Jennings',\n",
        " u'Mimi',\n",
        " u'Mr. Gardley',\n",
        " u'MenOfTar',\n",
        " u'Minotaur',\n",
        " u'Long Distance Runner',\n",
        " u'Mr. Best',\n",
        " u'Mr. Brown',\n",
        " u'Jay Scheib',\n",
        " u'Mr. Jennings',\n",
        " u'Young Jean Lee',\n",
        " u'Mr. Bockley',\n",
        " u'CAIRO',\n",
        " u'Persian Gulf',\n",
        " u'Egypt',\n",
        " u'Cairo',\n",
        " u'Cosmos',\n",
        " u'Khaled M. Ismail',\n",
        " u'Ismail',\n",
        " u'Raafat Ferghani Khattab',\n",
        " u'Mr. Khattab',\n",
        " u'Swedish',\n",
        " u'Islamist',\n",
        " u'Mohamed Morsi',\n",
        " u'Sinai',\n",
        " u'South Korean',\n",
        " u'Tourism',\n",
        " u'Arab',\n",
        " u'European',\n",
        " u'United States',\n",
        " u'Latvia',\n",
        " u'Giza',\n",
        " u'Egyptian Museum',\n",
        " u'Tahrir Square',\n",
        " u'Abdel Fattah',\n",
        " u'Mr. Sisi',\n",
        " u'Egyptian',\n",
        " u'Thailand',\n",
        " u'Thais',\n",
        " u'Alaa Mosaad',\n",
        " u'German',\n",
        " u'Mr. Mosaad',\n",
        " u'Mohamed Atef',\n",
        " u'France',\n",
        " u'Paris',\n",
        " u'Spitfire',\n",
        " u'William Ash',\n",
        " u'England',\n",
        " u'Spain',\n",
        " u'Louvre',\n",
        " u'Parisian',\n",
        " u'Brendan Foley',\n",
        " u'London',\n",
        " u'Mr. Ash',\n",
        " u'Fresnes Prison',\n",
        " u'Gestapo',\n",
        " u'Pilot Officer Ash',\n",
        " u'Germany',\n",
        " u'Lithuania',\n",
        " u'Poland',\n",
        " u'Monopoly',\n",
        " u'Stalag Luft III',\n",
        " u'American',\n",
        " u'Steve',\n",
        " u'Virgil Hilts',\n",
        " u'Mr.',\n",
        " u'John Sturges',\n",
        " u'Dallas',\n",
        " u'William Franklin',\n",
        " u'George Coe',\n",
        " u'New Mexico',\n",
        " u'Texas',\n",
        " u'University',\n",
        " u'Bonnie',\n",
        " u'Clyde',\n",
        " u'Dallas Morning News',\n",
        " u'Hitler',\n",
        " u'Royal Canadian Air Force',\n",
        " u'Spanish Civil War',\n",
        " u'United States',\n",
        " u'Ambassador Bridge',\n",
        " u'Canada',\n",
        " u'Calais',\n",
        " u'German',\n",
        " u'British',\n",
        " u'British Empire',\n",
        " u'British Broadcasting',\n",
        " u'India',\n",
        " u'Oxford',\n",
        " u'BBC',\n",
        " u'Communist Party',\n",
        " u'Maoist',\n",
        " u'Patricia Rambault',\n",
        " u'Royal Navy',\n",
        " u'Ranjana Sidhanta',\n",
        " u'Francis',\n",
        " u'Julia Ash',\n",
        " u'Great Britain',\n",
        " u'Don Fair',\n",
        " u'Heydekrug',\n",
        " u'Silute',\n",
        " u'Stalag Luft VI',\n",
        " u'New Zealander',\n",
        " u'Lithuanian',\n",
        " u'German Army',\n",
        " u'Manhattan',\n",
        " u'New York',\n",
        " u'Wall Street',\n",
        " u'Broadway',\n",
        " u'New York State',\n",
        " u'Real Estate Finance Bureau',\n",
        " u'Dewey',\n",
        " u'Long',\n",
        " u'Holland',\n",
        " u'Knight',\n",
        " u'Stuart M. Saft',\n",
        " u'Mr. Saft',\n",
        " u'Albany',\n",
        " u'Troy',\n",
        " u'Erica',\n",
        " u'Ballston Spa',\n",
        " u'Urban Homesteading Assistance Board',\n",
        " u'Jeffrey Buckley',\n",
        " u'Lower East Side',\n",
        " u'Rainer',\n",
        " u'Taft',\n",
        " u'Wickersham',\n",
        " u'Microsoft',\n",
        " u'Buckley',\n",
        " u'Regardless',\n",
        " u'Blasio',\n",
        " u'New York City',\n",
        " u'Mr.',\n",
        " u'Michael',\n",
        " u'City Hall',\n",
        " u'Carol Kellermann',\n",
        " u'Citizens Budget Commission',\n",
        " u'City Council',\n",
        " u'City University',\n",
        " u'New York',\n",
        " u'Student',\n",
        " u'Councilman Vincent',\n",
        " u'Staten Island',\n",
        " u'City',\n",
        " u'Manhattan Institute',\n",
        " u'Nicole Gelinas',\n",
        " u'PowerPoint',\n",
        " u'Lisa Bayne',\n",
        " u'Berkeley',\n",
        " u'Artful Home',\n",
        " u'Madison',\n",
        " u'Wisc',\n",
        " u'Andy Astor',\n",
        " u'Calif',\n",
        " u'Sonoma',\n",
        " u'Mr. Astor',\n",
        " u'Northern California',\n",
        " u'San Francisco',\n",
        " u'Brides',\n",
        " u'Offbeat Bride',\n",
        " u'Etsy',\n",
        " u'Pinterest',\n",
        " u'Darcy Miller',\n",
        " u'Martha Stewart Weddings',\n",
        " u'Which',\n",
        " u'Miller',\n",
        " u'Facebook',\n",
        " u'Jessica Hische',\n",
        " u'Russ Maschmeyer',\n",
        " u'Brooklyn',\n",
        " u'Gawker',\n",
        " u'Mr. Maschmeyer',\n",
        " u'Gowanus',\n",
        " u'Green Building',\n",
        " u'San Francisco City Hall',\n",
        " u'Fluff',\n",
        " u'Green',\n",
        " u'Sugar',\n",
        " u'Lenox',\n",
        " u'Mass',\n",
        " u'Simon Davenport',\n",
        " u'Stonover Farm',\n",
        " u'Bird',\n",
        " u'Lily Thorne',\n",
        " u'Mr. Davenport',\n",
        " u'Peter',\n",
        " u'Greenpoint',\n",
        " u'Sarah',\n",
        " u'Black Mountain Wine House',\n",
        " u'Ian Furst',\n",
        " u'Lauren Ireland',\n",
        " u'Lindsey Thornburg',\n",
        " u'Seattle',\n",
        " u'Ireland',\n",
        " u'Brooklyn Bride',\n",
        " u'Broussard',\n",
        " u'Ghislaine',\n",
        " u'New York',\n",
        " u'Michelle Edgemont',\n",
        " u'New',\n",
        " u'View',\n",
        " u'Love',\n",
        " u'Tony',\n",
        " u'Broadway',\n",
        " u'Carole King',\n",
        " u'Bryce Pinkham',\n",
        " u'Englishmen',\n",
        " u'Jefferson Mays',\n",
        " u'Robert',\n",
        " u'Steven Lutvak',\n",
        " u'British',\n",
        " u'Shakespeare',\n",
        " u'Audra McDonald',\n",
        " u'Cherry',\n",
        " u'Josie',\n",
        " u'Mark Rylance',\n",
        " u'Southern',\n",
        " u'Gordon Edelstein',\n",
        " u'John Tiffany',\n",
        " u'Judith Ivey',\n",
        " u'Bob Crowley',\n",
        " u'Mr.',\n",
        " u'Roundabout',\n",
        " u'Angry',\n",
        " u'German',\n",
        " u'John Cameron',\n",
        " u'Neil Patrick Harris',\n",
        " u'True',\n",
        " u'Michael',\n",
        " u'Brian',\n",
        " u'Jeanine Tesori',\n",
        " u'Sutton Foster',\n",
        " u'See',\n",
        " u'Michael Riedel',\n",
        " u'New York Post',\n",
        " u'Will Eno',\n",
        " u'Lyceum',\n",
        " u'Broadway',\n",
        " u'Times Square',\n",
        " u'Magnifique',\n",
        " u'Broadway Comes Out Swinging',\n",
        " u'Carter Calvert',\n",
        " u'Davenport Theater',\n",
        " u'Mia Gentile',\n",
        " u'Michelle Williams',\n",
        " u'New',\n",
        " u'Jack',\n",
        " u'Jeez',\n",
        " u'Gerard',\n",
        " u'Mr. Alessandrini',\n",
        " u'Idina Menzel',\n",
        " u'Madison',\n",
        " u'Phillip George',\n",
        " u'David Caldwell',\n",
        " u'Marcus Stevens',\n",
        " u'Nazi',\n",
        " u'New Orleans',\n",
        " u'Scott Richard Foster',\n",
        " u'Liza Minnelli',\n",
        " u'Liza',\n",
        " u'Gambier',\n",
        " u'Jennifer Delahunty',\n",
        " u'Kenyon College',\n",
        " u'Ohio',\n",
        " u'Jeremiah Quinlan',\n",
        " u'Thornton',\n",
        " u'Viviana Andazola Marquez',\n",
        " u'Mr. Quinlan',\n",
        " u'Brooklyn',\n",
        " u'Mineola',\n",
        " u'Pennsylvania',\n",
        " u'University',\n",
        " u'Griffin Karpeck',\n",
        " u'Darien',\n",
        " u'Butler University',\n",
        " u'Laura Schutt',\n",
        " u'Mr. Karpeck',\n",
        " u'Andy Duehren',\n",
        " u'Harvard',\n",
        " u'Kenyon',\n",
        " u'British',\n",
        " u'Hal Brooks',\n",
        " u'Pearl',\n",
        " u'Richard Brinsley',\n",
        " u'Mr. Brooks',\n",
        " u'Beaumarchais',\n",
        " u'Restoration',\n",
        " u'Push',\n",
        " u'Dana Ivey',\n",
        " u'Lincoln Center',\n",
        " u'New York',\n",
        " u'Bath',\n",
        " u'Jessica Love',\n",
        " u'Lydia Languish',\n",
        " u'Sir Anthony Absolute',\n",
        " u'Bob Acres',\n",
        " u'Irishman',\n",
        " u'Jack',\n",
        " u'Sir Lucius',\n",
        " u'Faulkland',\n",
        " u'Julia',\n",
        " u'Mr. Donaldson',\n",
        " u'Mr. McNall',\n",
        " u'National Cancer Institute',\n",
        " u'United States',\n",
        " u'Billings',\n",
        " u'Melinda Bachini',\n",
        " u'Related',\n",
        " u'Pennsylvania',\n",
        " u'University',\n",
        " u'Memorial',\n",
        " u'New York',\n",
        " u'Rosenberg',\n",
        " u'U.S.',\n",
        " u'United States',\n",
        " u'WASHINGTON',\n",
        " u'Internal Revenue Service',\n",
        " u'Michael Danilack',\n",
        " u'BEPS',\n",
        " u'Danilack',\n",
        " u'Development',\n",
        " u'Economic',\n",
        " u'OECD',\n",
        " u'Profit Shifting',\n",
        " u'Launched',\n",
        " u'IRS',\n",
        " u'Frank',\n",
        " u'Mount Rainier',\n",
        " u'Nisqually',\n",
        " u'Puget Sound',\n",
        " u'Washington',\n",
        " u'Mr. Frank',\n",
        " u'Nisqually River',\n",
        " u'Pacific Northwest',\n",
        " u'American Civil Liberties Union',\n",
        " u'Jane Fonda',\n",
        " u'Marlon Brando',\n",
        " u'Olympia',\n",
        " u'Salmon',\n",
        " u'Native Americans',\n",
        " u'Federal District Court',\n",
        " u'George',\n",
        " u'Tacoma',\n",
        " u'Northwest',\n",
        " u'Indian',\n",
        " u'United States Supreme Court',\n",
        " u'Northwest Indian Fisheries Commission',\n",
        " u'Albert Schweitzer Prize',\n",
        " u'Obama',\n",
        " u'Army',\n",
        " u'Marines',\n",
        " u'James',\n",
        " u'Tanu',\n",
        " u'Willie',\n",
        " u'Boldt',\n",
        " u'Charles Wilkinson',\n",
        " u'Indian Way',\n",
        " u'Treaties',\n",
        " u'Air France',\n",
        " u'American',\n",
        " u'Dior',\n",
        " u'French',\n",
        " u'Raf',\n",
        " u'Brooklyn Navy Yard',\n",
        " u'Duggal Greenhouse',\n",
        " u'Mr. Simons',\n",
        " u'Program',\n",
        " u'United States',\n",
        " u'Captain Stubing',\n",
        " u'Tropicana',\n",
        " u'New York City',\n",
        " u'Paris',\n",
        " u'Central Park West',\n",
        " u'Dakota',\n",
        " u'NBC',\n",
        " u'Roman Polanski',\n",
        " u'France',\n",
        " u'Diane Johnson',\n",
        " u'Henry James',\n",
        " u'Bill',\n",
        " u'Blasio',\n",
        " u'Devil',\n",
        " u'Dominique',\n",
        " u'Guy',\n",
        " u'Patrick J. Adams',\n",
        " u'Rosemary Woodhouse',\n",
        " u'Sorbonne',\n",
        " u'Ruth Gordon',\n",
        " u'Sidney Blackmer',\n",
        " u'American',\n",
        " u'Eighth Arrondissement',\n",
        " u'French',\n",
        " u'Jason Isaacs',\n",
        " u'Margaux',\n",
        " u'Roman Castevet',\n",
        " u'Roman',\n",
        " u'Ira Levin',\n",
        " u'Black',\n",
        " u'Park Avenue',\n",
        " u'Upper East Side',\n",
        " u'Agnieszka Holland',\n",
        " u'Mia Farrow',\n",
        " u'Omaha',\n",
        " u'Rosemary',\n",
        " u'Mr. Polanski',\n",
        " u'James Greenberg',\n",
        " u'No',\n",
        " u'Horror Story',\n",
        " u'Dorian Gray',\n",
        " u'Victor Frankenstein',\n",
        " u'Western',\n",
        " u'Fox',\n",
        " u'Hollow',\n",
        " u'Ichabod Crane',\n",
        " u'MUCH',\n",
        " u'Side',\n",
        " u'HOOD',\n",
        " u'Pentastar V6',\n",
        " u'Trimmed',\n",
        " u'Dodge',\n",
        " u'Ram Van',\n",
        " u'Tradesman',\n",
        " u'Chrysler',\n",
        " u'Fiat',\n",
        " u'Rams',\n",
        " u'Econoline',\n",
        " u'American',\n",
        " u'Chevrolet Express',\n",
        " u'GMC Savana',\n",
        " u'General Motors',\n",
        " u'Fiat Ducato',\n",
        " u'Peugeot',\n",
        " u'Mexico',\n",
        " u'Saltillo',\n",
        " u'European',\n",
        " u'Ram',\n",
        " u'Rated',\n",
        " u'United States',\n",
        " u'Dart',\n",
        " u'Grand Caravan',\n",
        " u'Ram Cargo Van',\n",
        " u'WASHINGTON',\n",
        " u'Indian',\n",
        " u'Bharatiya Janata Party',\n",
        " u'Congress Party',\n",
        " u'Hindu',\n",
        " u'Narendra Modi',\n",
        " u'Mr. Modi',\n",
        " u'United States',\n",
        " u'First',\n",
        " u'India',\n",
        " u'Fourth',\n",
        " u'Indira Gandhi',\n",
        " u'Andhra Pradesh',\n",
        " u'Parliament',\n",
        " u'Seemandhra',\n",
        " u'Parliamentary',\n",
        " u'Tamil Nadu',\n",
        " u'West Godavari',\n",
        " u'WikiLeaks',\n",
        " u'Rajahmundry',\n",
        " u'Telugu Desam Party',\n",
        " u'Common',\n",
        " u'Congress',\n",
        " u'Rahul Gandhi',\n",
        " u'Sonia Gandhi',\n",
        " u'Anjali Bohlken',\n",
        " u'British Columbia',\n",
        " u'Kanchan Chandra',\n",
        " u'New York University',\n",
        " u'University',\n",
        " u'Bihar State',\n",
        " u'Mr.',\n",
        " u'Pappu Yadav',\n",
        " u'Vitthalbhai Radadiya',\n",
        " u'CeeJay Group',\n",
        " u'Lagadapati Rajagopal',\n",
        " u'Naveen Jindal',\n",
        " u'Praful',\n",
        " u'Hema Malini',\n",
        " u'Telugu',\n",
        " u'Sachin Tendulkar',\n",
        " u'Democratic',\n",
        " u'Arvind Kejriwal',\n",
        " u'Election',\n",
        " u'Hindi',\n",
        " u'Carnegie Endowment',\n",
        " u'International Peace',\n",
        " u'Milan Vaishnav',\n",
        " u'South Asia',\n",
        " u'Omnicom Group',\n",
        " u'Publicis Groupe',\n",
        " u'Facebook',\n",
        " u'Google',\n",
        " u'Omnicom',\n",
        " u'Publicis',\n",
        " u'BBDO',\n",
        " u'DDB',\n",
        " u'John',\n",
        " u'Madison Avenue',\n",
        " u'New York',\n",
        " u'TBWA',\n",
        " u'Leo Burnett',\n",
        " u'Maurice L\\xe9vy',\n",
        " u'Paris',\n",
        " u'Saatchi',\n",
        " u'Mr. L\\xe9vy',\n",
        " u'Mr. Wren',\n",
        " u'Mr.',\n",
        " u'Randall J. Weisenburger',\n",
        " u'China',\n",
        " u'Mofcom',\n",
        " u'Brian Wieser',\n",
        " u'Pivotal Research Group',\n",
        " u'Wieser',\n",
        " u'Interpublic Group',\n",
        " u'Dentsu',\n",
        " u'Japanese',\n",
        " u'WPP',\n",
        " u'Visa',\n",
        " u'Walmart',\n",
        " u'Technology',\n",
        " u'Accenture',\n",
        " u'Deloitte',\n",
        " u'Sapient',\n",
        " u'Apple',\n",
        " u'Facebook',\n",
        " u'Google',\n",
        " u'Motorola',\n",
        " u'WhatsApp',\n",
        " u'Thomson Reuters',\n",
        " u'NeXT Computer',\n",
        " u'Steven',\n",
        " u'Timothy',\n",
        " u'AuthenTec',\n",
        " u'iPhone',\n",
        " u'Semi',\n",
        " u'C3 Technologies',\n",
        " u'Sweden',\n",
        " u'Power Computing',\n",
        " u'Silicon Valley',\n",
        " u'Nest Labs',\n",
        " u'Classics',\n",
        " u'Saravana Bhavan',\n",
        " u'Lexington Avenue',\n",
        " u'India',\n",
        " u'Indian',\n",
        " u'Chennai',\n",
        " u'Rajagopal',\n",
        " u'Manoharan',\n",
        " u'Murugan Idli',\n",
        " u'Brahmins',\n",
        " u'Silicon Valley',\n",
        " u'TVs',\n",
        " u'Australia',\n",
        " u'Hong Kong',\n",
        " u'Sydney',\n",
        " u'Dosas',\n",
        " u'British',\n",
        " u'Tamil Nadu',\n",
        " u'Punnaiadi',\n",
        " u'Madras',\n",
        " u'KK Nagar',\n",
        " u'Krishnendu Ray',\n",
        " u'Brahmin',\n",
        " u'Nadar',\n",
        " u'Annachi',\n",
        " u'Mylapore',\n",
        " u'Dubai',\n",
        " u'Dallas',\n",
        " u'Doha',\n",
        " u'Frankfurt',\n",
        " u'London',\n",
        " u'Paris',\n",
        " u'Qatar',\n",
        " u'Shiva Kumaar',\n",
        " u'Manhattan',\n",
        " u'Singapore',\n",
        " u'Sunnyvale',\n",
        " u'Canada',\n",
        " u'Malaysia',\n",
        " u'Oman',\n",
        " u'Eight',\n",
        " u'Supreme Court',\n",
        " u'Madras High Court',\n",
        " u'Saravana',\n",
        " u'Sriram V.',\n",
        " u'Look',\n",
        " u'Mahadevan',\n",
        " u'Period',\n",
        " u'Saravanan',\n",
        " u'Ganapathi Iyer',\n",
        " u'Nobody',\n",
        " u'English',\n",
        " u'Tamil',\n",
        " u'Jeevajothi',\n",
        " u'Santhakumar',\n",
        " u'Daniel',\n",
        " u'Mumbai',\n",
        " u'Kodaikanal',\n",
        " u'Western Ghats',\n",
        " u'Punnai Nagar',\n",
        " u'Gandhi',\n",
        " u'ANGELES',\n",
        " u'LOS',\n",
        " u'Frequent',\n",
        " u'Zillow',\n",
        " u'Alex Schwartz',\n",
        " u'George Washington University',\n",
        " u'Gregory Squires',\n",
        " u'New School',\n",
        " u'ZIP',\n",
        " u'Florida',\n",
        " u'Georgia',\n",
        " u'Illinois',\n",
        " u'Michigan',\n",
        " u'Ohio',\n",
        " u'Atlanta',\n",
        " u'Chicago',\n",
        " u'Jacksonville',\n",
        " u'Orlando',\n",
        " u'Americans',\n",
        " u'Mortgage',\n",
        " u'Latinos',\n",
        " u'Latino',\n",
        " u'Hogar Hispano',\n",
        " u'New Jersey Community Capital',\n",
        " u'Obama',\n",
        " u'Worse',\n",
        " u'Fannie Mae',\n",
        " u'Freddie Mac',\n",
        " u'Richmond',\n",
        " u'Wall Street',\n",
        " u'North America',\n",
        " u'American',\n",
        " u'Chevrolet City Express',\n",
        " u'Chicago',\n",
        " u'City Express',\n",
        " u'Fiat',\n",
        " u'General Motors',\n",
        " u'Nissan NV200',\n",
        " u'Chevy',\n",
        " u'Nissan',\n",
        " u'Cuernavaca',\n",
        " u'Mexico',\n",
        " u'NV200',\n",
        " u'Tomorrow',\n",
        " u'United States',\n",
        " u'New York City',\n",
        " u'New York State Supreme Court',\n",
        " u'Dan Bedore',\n",
        " u'New York',\n",
        " u'Chevrolet',\n",
        " u'Robert',\n",
        " u'Bedore',\n",
        " u'MOUNTAIN VIEW',\n",
        " u'Obama',\n",
        " u'Energy',\n",
        " u'Mr. Obama',\n",
        " u'Apple',\n",
        " u'Home Depot',\n",
        " u'United States',\n",
        " u'Walmart',\n",
        " u'California',\n",
        " u'National Climate',\n",
        " u'Congress',\n",
        " u'Washington',\n",
        " u'Cherry',\n",
        " u'Duffy',\n",
        " u'Fish',\n",
        " u'James',\n",
        " u'Patrick Carroll',\n",
        " u'Mr.',\n",
        " u'Broadway',\n",
        " u'Tamilla Woodard',\n",
        " u'Good',\n",
        " u'Christmas',\n",
        " u'Super Bowl',\n",
        " u'Gridlock Sam',\n",
        " u'Samuel',\n",
        " u'Schwartz',\n",
        " u'Mr. Schwartz',\n",
        " u'Long Island Expressway',\n",
        " u'Long Island',\n",
        " u'Memorial',\n",
        " u'Air Travel',\n",
        " u'Check',\n",
        " u'Blasio',\n",
        " u'Daniel',\n",
        " u'Affordable Photography Fair',\n",
        " u'Soho Photo',\n",
        " u'Coney Island',\n",
        " u'Museum',\n",
        " u'New York',\n",
        " u'Restoration Plaza',\n",
        " u'Chelsea',\n",
        " u'Downtown Fair',\n",
        " u'Frieze New York',\n",
        " u'Lower East Side',\n",
        " u'New Art Dealers Alliance',\n",
        " u'Randalls Island',\n",
        " u'Select Fair',\n",
        " u'Cinema Village',\n",
        " u'Workers Unite Film Festival',\n",
        " u'IndieScreen',\n",
        " u'Swedish',\n",
        " u'Williamsburg',\n",
        " u'New York Times',\n",
        " u'Brooklyn',\n",
        " u'Capital New York',\n",
        " u'Queens',\n",
        " u'Upper East Side',\n",
        " u'Occupy Wall Street',\n",
        " u'Gothamist',\n",
        " u'Metropolitan Museum',\n",
        " u'News',\n",
        " u'Newsweek',\n",
        " u'Gizmodo',\n",
        " u'Nets',\n",
        " u'New York Bike Jumble',\n",
        " u'Park Slope',\n",
        " u'Brooklyn Boat Builders Bash',\n",
        " u'Navy Yard',\n",
        " u'Noon',\n",
        " u'Creole',\n",
        " u'Jalopy Cajun',\n",
        " u'Red Hook',\n",
        " u'Zydeco Festival',\n",
        " u'TOAST',\n",
        " u'TriBeCa Open Artist Studio Tour',\n",
        " u'Standard',\n",
        " u'Bronx',\n",
        " u'New York Botanical Garden',\n",
        " u'Central Park Zoo',\n",
        " u'New York Times Arts',\n",
        " u'Beatles',\n",
        " u'Fifty',\n",
        " u'Louis Armstrong',\n",
        " u'Dolly',\n",
        " u'Louis Armstrong House Museum',\n",
        " u'Armstrong',\n",
        " u'Corona',\n",
        " u'Andy Newman',\n",
        " u'Annie Correal',\n",
        " u'Anthony Giardina',\n",
        " u'Hester Ferris',\n",
        " u'Georgetown',\n",
        " u'Hester',\n",
        " u'Broadway',\n",
        " u'Lincoln',\n",
        " u'Mr.',\n",
        " u'Doug Hughes',\n",
        " u'Smart',\n",
        " u'Oval Office',\n",
        " u'Carter',\n",
        " u'Reagan',\n",
        " u'Washington',\n",
        " u'Chandler Harris',\n",
        " u'John Lee Beatty',\n",
        " u'Barbara Garrick',\n",
        " u'John Aylward',\n",
        " u'Kentucky',\n",
        " u'Anna',\n",
        " u'Colin',\n",
        " u'London',\n",
        " u'Michael Simpson',\n",
        " u'Pamela Harriman',\n",
        " u'Perle Mesta',\n",
        " u'Quinn',\n",
        " u'Kennedy',\n",
        " u'Ronald Reagan',\n",
        " u'Ferris',\n",
        " u'Robert Bork',\n",
        " u'Supreme Court',\n",
        " u'Ethan',\n",
        " u'Bork',\n",
        " u'Mr. Simpson',\n",
        " u'Beth Dixon',\n",
        " u'Mr. Giardina',\n",
        " u'Adam Bryant',\n",
        " u'Sonatype',\n",
        " u'Wayne Jackson',\n",
        " u'Tell',\n",
        " u'Technology',\n",
        " u'David Legere',\n",
        " u'Marriott',\n",
        " u'Wayne',\n",
        " u'Dave',\n",
        " ...]"
       ]
      }
     ],
     "prompt_number": 79
    },
    {
     "cell_type": "code",
     "collapsed": false,
     "input": [
      "import pandas as pd\n"
     ],
     "language": "python",
     "metadata": {},
     "outputs": [],
     "prompt_number": 80
    },
    {
     "cell_type": "code",
     "collapsed": false,
     "input": [
      "pd.value_counts(entities)"
     ],
     "language": "python",
     "metadata": {},
     "outputs": [
      {
       "metadata": {},
       "output_type": "pyout",
       "prompt_number": 81,
       "text": [
        "Mr.              47\n",
        "New York         40\n",
        "American         37\n",
        "Broadway         32\n",
        "United States    31\n",
        "British          18\n",
        "Brooklyn         17\n",
        "French           17\n",
        "Manhattan        14\n",
        "London           13\n",
        "Paris            13\n",
        "Washington       12\n",
        "Tony Award       11\n",
        "California       10\n",
        "Congress         10\n",
        "...\n",
        "Postal                  1\n",
        "Aidan Grant             1\n",
        "Alejo Vietti            1\n",
        "Delta Psi Beta          1\n",
        "Art Informel            1\n",
        "Constitutional Court    1\n",
        "LeRoi Jones             1\n",
        "Latinos                 1\n",
        "Greenwich Village       1\n",
        "Chang Huang             1\n",
        "Seabourn                1\n",
        "Terra                   1\n",
        "Mama                    1\n",
        "Tutankhamen             1\n",
        "Linda Gross Theater     1\n",
        "Length: 3812, dtype: int64"
       ]
      }
     ],
     "prompt_number": 81
    },
    {
     "cell_type": "code",
     "collapsed": false,
     "input": [
      "pd.value_counts(entities)[:20]"
     ],
     "language": "python",
     "metadata": {},
     "outputs": [
      {
       "metadata": {},
       "output_type": "pyout",
       "prompt_number": 82,
       "text": [
        "Mr.               47\n",
        "New York          40\n",
        "American          37\n",
        "Broadway          32\n",
        "United States     31\n",
        "British           18\n",
        "Brooklyn          17\n",
        "French            17\n",
        "Manhattan         14\n",
        "London            13\n",
        "Paris             13\n",
        "Washington        12\n",
        "Tony Award        11\n",
        "California        10\n",
        "Congress          10\n",
        "Obama              9\n",
        "German             9\n",
        "New York Times     9\n",
        "European           9\n",
        "Los Angeles        9\n",
        "dtype: int64"
       ]
      }
     ],
     "prompt_number": 82
    },
    {
     "cell_type": "code",
     "collapsed": false,
     "input": [],
     "language": "python",
     "metadata": {},
     "outputs": []
    }
   ],
   "metadata": {}
  }
 ]
}